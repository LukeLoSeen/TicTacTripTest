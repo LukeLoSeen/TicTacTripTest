{
 "cells": [
  {
   "cell_type": "code",
   "execution_count": 1,
   "metadata": {},
   "outputs": [],
   "source": [
    "import pandas as pd\n",
    "import numpy as np\n",
    "import matplotlib as mp\n",
    "import datetime\n",
    "import time"
   ]
  },
  {
   "cell_type": "code",
   "execution_count": 2,
   "metadata": {},
   "outputs": [],
   "source": [
    "cities=pd.read_csv(\"data/cities.csv\")\n",
    "providers=pd.read_csv(\"data/providers.csv\")\n",
    "stations=pd.read_csv(\"data/stations.csv\")\n",
    "tickets=pd.read_csv(\"data/ticket_data.csv\")"
   ]
  },
  {
   "cell_type": "code",
   "execution_count": 49,
   "metadata": {},
   "outputs": [
    {
     "name": "stdout",
     "output_type": "stream",
     "text": [
      "            id  company  o_station  d_station            departure_ts  \\\n",
      "0      6795025     8385        NaN        NaN  2017-10-13 14:00:00+00   \n",
      "1      6795026        9       63.0     1044.0  2017-10-13 13:05:00+00   \n",
      "2      6795027     8377     5905.0     6495.0  2017-10-13 13:27:00+00   \n",
      "3      6795028     8377     5905.0     6495.0  2017-10-13 13:27:00+00   \n",
      "4      6795029     8381     5905.0     6495.0  2017-10-13 21:46:00+00   \n",
      "5      6795030     8385        NaN        NaN  2017-10-06 05:30:00+00   \n",
      "6      6795031     8385        NaN        NaN  2017-10-06 07:00:42+00   \n",
      "7      6795032     8385        NaN        NaN  2017-10-06 07:10:00+00   \n",
      "8      6795033     8385        NaN        NaN  2017-10-06 10:00:00+00   \n",
      "9      6795034     8385        NaN        NaN  2017-10-06 10:00:00+00   \n",
      "10     6795035     8385        NaN        NaN  2017-10-06 12:40:00+00   \n",
      "11     6795036     8385        NaN        NaN  2017-10-06 13:00:00+00   \n",
      "12     6795037     8385        NaN        NaN  2017-10-06 13:00:00+00   \n",
      "13     6795038     8385        NaN        NaN  2017-10-06 13:00:00+00   \n",
      "14     6795039     8385        NaN        NaN  2017-10-06 13:00:00+00   \n",
      "15     6795040     8385        NaN        NaN  2017-10-06 13:40:00+00   \n",
      "16     6795041     8385        NaN        NaN  2017-10-06 14:00:16+00   \n",
      "17     6795042     8385        NaN        NaN  2017-10-06 14:00:00+00   \n",
      "18     6795043     8385        NaN        NaN  2017-10-06 14:00:00+00   \n",
      "19     6795044     8385        NaN        NaN  2017-10-06 14:00:00+00   \n",
      "20     6795045     8385        NaN        NaN  2017-10-06 14:50:00+00   \n",
      "21     6795046     8385        NaN        NaN  2017-10-06 15:10:00+00   \n",
      "22     6795047     8385        NaN        NaN  2017-10-06 15:30:00+00   \n",
      "23     6795048     8385        NaN        NaN  2017-10-06 15:50:00+00   \n",
      "24     6795049     8385        NaN        NaN  2017-10-06 15:50:00+00   \n",
      "25     6795050     8385        NaN        NaN  2017-10-06 16:00:00+00   \n",
      "26     6795051     8385        NaN        NaN  2017-10-06 16:00:00+00   \n",
      "27     6795052     8385        NaN        NaN  2017-10-06 16:00:00+00   \n",
      "28     6795053     8385        NaN        NaN  2017-10-06 16:50:00+00   \n",
      "29     6795054     8385        NaN        NaN  2017-10-06 17:00:00+00   \n",
      "...        ...      ...        ...        ...                     ...   \n",
      "74138  6869163     8385        NaN        NaN  2017-10-27 18:00:00+00   \n",
      "74139  6869164     8385        NaN        NaN  2017-10-27 18:30:00+00   \n",
      "74140  6869165     8385        NaN        NaN  2017-10-27 18:30:00+00   \n",
      "74141  6869166     8385        NaN        NaN  2017-10-27 18:30:00+00   \n",
      "74142  6869167     8385        NaN        NaN  2017-10-27 19:10:00+00   \n",
      "74143  6869168     8385        NaN        NaN  2017-10-27 21:20:00+00   \n",
      "74144  6869169     8385        NaN        NaN  2017-10-27 21:50:00+00   \n",
      "74145  6869170     8376      767.0     6591.0  2017-10-27 06:38:00+00   \n",
      "74146  6869175     8376      767.0     6591.0  2017-10-27 16:38:00+00   \n",
      "74147  6869180     8376     6799.0     6591.0  2017-10-27 21:46:00+00   \n",
      "74148  6869171     8376      767.0     6591.0  2017-10-27 06:38:00+00   \n",
      "74149  6869177     8376     6799.0     6591.0  2017-10-27 17:14:00+00   \n",
      "74150  6869172     8376     6799.0     6591.0  2017-10-27 08:14:00+00   \n",
      "74151  6869178     8376     6799.0     6591.0  2017-10-27 19:40:00+00   \n",
      "74152  6869173     8376     6799.0     6591.0  2017-10-27 10:40:00+00   \n",
      "74153  6869176     8376      767.0     6591.0  2017-10-27 16:38:00+00   \n",
      "74154  6869174     8376     6799.0     6591.0  2017-10-27 14:14:00+00   \n",
      "74155  6869179     8376     6799.0     6591.0  2017-10-27 20:46:00+00   \n",
      "74156  6869181       13        3.0    10729.0  2017-10-27 01:40:00+00   \n",
      "74157  6869183     8371    10642.0      304.0  2017-10-27 07:00:00+00   \n",
      "74158  6869184        9      279.0    10729.0  2017-10-27 07:00:00+00   \n",
      "74159  6869186     8371    10642.0    10729.0  2017-10-27 08:30:00+00   \n",
      "74160  6869188     8371    10642.0      304.0  2017-10-27 10:00:00+00   \n",
      "74161  6869190     8371    10642.0      304.0  2017-10-27 14:00:00+00   \n",
      "74162  6869192       13      279.0      304.0  2017-10-27 19:55:00+00   \n",
      "74163  6869182       13      279.0    10729.0  2017-10-27 02:30:00+00   \n",
      "74164  6869185        9      279.0      304.0  2017-10-27 07:00:00+00   \n",
      "74165  6869187     8371    10642.0      304.0  2017-10-27 08:30:00+00   \n",
      "74166  6869189       13      279.0      304.0  2017-10-27 13:25:00+00   \n",
      "74167  6869191     8371    10642.0    10729.0  2017-10-27 14:45:00+00   \n",
      "\n",
      "                   arrival_ts  price_in_cents                   search_ts  \\\n",
      "0      2017-10-13 20:10:00+00            4550  2017-10-01 00:13:31.327+00   \n",
      "1      2017-10-14 06:55:00+00            1450  2017-10-01 00:13:35.773+00   \n",
      "2      2017-10-14 21:24:00+00            7400  2017-10-01 00:13:40.212+00   \n",
      "3      2017-10-14 11:02:00+00           13500  2017-10-01 00:13:40.213+00   \n",
      "4      2017-10-14 19:32:00+00            7710  2017-10-01 00:13:40.213+00   \n",
      "5      2017-10-06 08:30:00+00            1800  2017-10-01 01:03:18.948+00   \n",
      "6      2017-10-06 09:30:42+00            2150  2017-10-01 01:03:18.948+00   \n",
      "7      2017-10-06 09:40:00+00            1700  2017-10-01 01:03:18.948+00   \n",
      "8      2017-10-06 12:50:00+00            1700  2017-10-01 01:03:18.948+00   \n",
      "9      2017-10-06 12:50:00+00            1900  2017-10-01 01:03:18.948+00   \n",
      "10     2017-10-06 15:40:00+00            1550  2017-10-01 01:03:18.948+00   \n",
      "11     2017-10-06 15:40:00+00            1450  2017-10-01 01:03:18.948+00   \n",
      "12     2017-10-06 15:30:00+00            1550  2017-10-01 01:03:18.948+00   \n",
      "13     2017-10-06 15:30:00+00            1550  2017-10-01 01:03:18.948+00   \n",
      "14     2017-10-06 15:30:00+00            1800   2017-10-01 01:03:18.95+00   \n",
      "15     2017-10-06 16:30:00+00            1700   2017-10-01 01:03:18.95+00   \n",
      "16     2017-10-06 16:30:16+00            1700   2017-10-01 01:03:18.95+00   \n",
      "17     2017-10-06 17:00:00+00            1800   2017-10-01 01:03:18.95+00   \n",
      "18     2017-10-06 17:20:00+00            1900   2017-10-01 01:03:18.95+00   \n",
      "19     2017-10-06 16:40:00+00            2300   2017-10-01 01:03:18.95+00   \n",
      "20     2017-10-06 17:40:00+00            1700   2017-10-01 01:03:18.95+00   \n",
      "21     2017-10-06 17:50:00+00            1800   2017-10-01 01:03:18.95+00   \n",
      "22     2017-10-06 17:50:00+00            1450   2017-10-01 01:03:18.95+00   \n",
      "23     2017-10-06 18:50:00+00            1700   2017-10-01 01:03:18.95+00   \n",
      "24     2017-10-06 18:50:00+00            1800   2017-10-01 01:03:18.95+00   \n",
      "25     2017-10-06 19:00:00+00            1700   2017-10-01 01:03:18.95+00   \n",
      "26     2017-10-06 19:00:00+00            1800   2017-10-01 01:03:18.95+00   \n",
      "27     2017-10-06 18:50:00+00            1800  2017-10-01 01:03:18.951+00   \n",
      "28     2017-10-06 19:20:00+00            1550  2017-10-01 01:03:18.951+00   \n",
      "29     2017-10-06 19:30:00+00            1300  2017-10-01 01:03:18.951+00   \n",
      "...                       ...             ...                         ...   \n",
      "74138  2017-10-27 22:20:00+00            3000  2017-10-19 10:35:31.269+00   \n",
      "74139  2017-10-27 22:30:00+00            2900  2017-10-19 10:35:31.269+00   \n",
      "74140  2017-10-27 22:50:00+00            2900  2017-10-19 10:35:31.269+00   \n",
      "74141  2017-10-27 23:10:00+00            3000  2017-10-19 10:35:31.269+00   \n",
      "74142  2017-10-27 23:00:00+00            2650  2017-10-19 10:35:31.269+00   \n",
      "74143  2017-10-28 01:10:00+00            2900  2017-10-19 10:35:31.269+00   \n",
      "74144  2017-10-28 01:40:00+00            3600  2017-10-19 10:35:31.269+00   \n",
      "74145  2017-10-27 23:02:00+00            1950  2017-10-19 10:35:40.167+00   \n",
      "74146  2017-10-27 19:16:00+00            8020  2017-10-19 10:35:40.168+00   \n",
      "74147  2017-10-28 23:02:00+00            8450  2017-10-19 10:35:40.168+00   \n",
      "74148  2017-10-27 08:55:00+00            2150  2017-10-19 10:35:40.168+00   \n",
      "74149  2017-10-27 19:54:00+00            8700  2017-10-19 10:35:40.168+00   \n",
      "74150  2017-10-27 11:38:00+00            7650  2017-10-19 10:35:40.168+00   \n",
      "74151  2017-10-28 08:30:00+00            8450  2017-10-19 10:35:40.168+00   \n",
      "74152  2017-10-27 14:50:00+00            7850  2017-10-19 10:35:40.168+00   \n",
      "74153  2017-10-27 18:54:00+00            8400  2017-10-19 10:35:40.168+00   \n",
      "74154  2017-10-27 17:16:00+00            7620  2017-10-19 10:35:40.168+00   \n",
      "74155  2017-10-27 23:02:00+00            8450  2017-10-19 10:35:40.168+00   \n",
      "74156  2017-10-27 16:00:00+00            2590  2017-10-19 10:35:42.942+00   \n",
      "74157  2017-10-27 21:10:00+00            2090  2017-10-19 10:35:42.943+00   \n",
      "74158  2017-10-27 16:00:00+00            2400  2017-10-19 10:35:42.943+00   \n",
      "74159  2017-10-27 16:00:00+00            2400  2017-10-19 10:35:42.943+00   \n",
      "74160  2017-10-27 22:45:00+00            2100  2017-10-19 10:35:42.943+00   \n",
      "74161  2017-10-27 21:15:00+00            2700  2017-10-19 10:35:42.943+00   \n",
      "74162  2017-10-28 08:00:00+00            4480  2017-10-19 10:35:42.943+00   \n",
      "74163  2017-10-27 16:00:00+00            2590  2017-10-19 10:35:42.943+00   \n",
      "74164  2017-10-27 13:30:00+00            2700  2017-10-19 10:35:42.943+00   \n",
      "74165  2017-10-27 15:15:00+00            3000  2017-10-19 10:35:42.943+00   \n",
      "74166  2017-10-27 21:10:00+00            2880  2017-10-19 10:35:42.943+00   \n",
      "74167  2017-10-27 21:40:00+00            2000  2017-10-19 10:35:42.943+00   \n",
      "\n",
      "           middle_stations other_companies  o_city  d_city  travelTime_ts  \n",
      "0                      NaN             NaN     611     542        22200.0  \n",
      "1                {149,418}            {13}     611     542        64200.0  \n",
      "2      {798,798,6794,6246}     {8377,8376}     611     542       115020.0  \n",
      "3      {798,798,6794,6246}     {8377,8376}     611     542        77700.0  \n",
      "4              {5983,5983}          {8380}     611     542        78360.0  \n",
      "5                      NaN             NaN     628     453        10800.0  \n",
      "6                      NaN             NaN     628     453         9000.0  \n",
      "7                      NaN             NaN     628     453         9000.0  \n",
      "8                      NaN             NaN     628     453        10200.0  \n",
      "9                      NaN             NaN     628     453        10200.0  \n",
      "10                     NaN             NaN     628     453        10800.0  \n",
      "11                     NaN             NaN     628     453         9600.0  \n",
      "12                     NaN             NaN     628     453         9000.0  \n",
      "13                     NaN             NaN     628     453         9000.0  \n",
      "14                     NaN             NaN     628     453         9000.0  \n",
      "15                     NaN             NaN     628     453        10200.0  \n",
      "16                     NaN             NaN     628     453         9000.0  \n",
      "17                     NaN             NaN     628     453        10800.0  \n",
      "18                     NaN             NaN     628     453        12000.0  \n",
      "19                     NaN             NaN     628     453         9600.0  \n",
      "20                     NaN             NaN     628     453        10200.0  \n",
      "21                     NaN             NaN     628     453         9600.0  \n",
      "22                     NaN             NaN     628     453         8400.0  \n",
      "23                     NaN             NaN     628     453        10800.0  \n",
      "24                     NaN             NaN     628     453        10800.0  \n",
      "25                     NaN             NaN     628     453        10800.0  \n",
      "26                     NaN             NaN     628     453        10800.0  \n",
      "27                     NaN             NaN     628     453        10200.0  \n",
      "28                     NaN             NaN     628     453         9000.0  \n",
      "29                     NaN             NaN     628     453         9000.0  \n",
      "...                    ...             ...     ...     ...            ...  \n",
      "74138                  NaN             NaN     628     562        15600.0  \n",
      "74139                  NaN             NaN     628     562        14400.0  \n",
      "74140                  NaN             NaN     628     562        15600.0  \n",
      "74141                  NaN             NaN     628     562        16800.0  \n",
      "74142                  NaN             NaN     628     562        13800.0  \n",
      "74143                  NaN             NaN     628     562        13800.0  \n",
      "74144                  NaN             NaN     628     562        13800.0  \n",
      "74145            {408,408}          {8377}     628     562        59040.0  \n",
      "74146            {583,583}          {8380}     628     562         9480.0  \n",
      "74147            {408,408}          {8377}     628     562        90960.0  \n",
      "74148            {408,408}          {8376}     628     562         8220.0  \n",
      "74149            {583,583}          {8376}     628     562         9600.0  \n",
      "74150            {583,583}          {8376}     628     562        12240.0  \n",
      "74151          {3748,3748}          {8380}     628     562        46200.0  \n",
      "74152            {408,408}          {8376}     628     562        15000.0  \n",
      "74153            {583,583}          {8376}     628     562         8160.0  \n",
      "74154            {583,583}          {8380}     628     562        10920.0  \n",
      "74155            {408,408}          {8377}     628     562         8160.0  \n",
      "74156            {408,408}          {8371}     628     562        51600.0  \n",
      "74157            {863,863}            {13}     628     562        51000.0  \n",
      "74158          {1105,1105}          {8371}     628     562        32400.0  \n",
      "74159          {1105,1105}          {8371}     628     562        27000.0  \n",
      "74160          {1105,1105}             {9}     628     562        45900.0  \n",
      "74161          {1105,1105}             {9}     628     562        26100.0  \n",
      "74162            {863,863}            {13}     628     562        43500.0  \n",
      "74163            {408,408}          {8371}     628     562        48600.0  \n",
      "74164          {1105,1105}             {9}     628     562        23400.0  \n",
      "74165          {1105,1105}             {9}     628     562        24300.0  \n",
      "74166            {863,863}            {13}     628     562        27900.0  \n",
      "74167            {863,863}          {8371}     628     562        24900.0  \n",
      "\n",
      "[74168 rows x 13 columns]\n"
     ]
    }
   ],
   "source": [
    "print(tickets)"
   ]
  },
  {
   "cell_type": "markdown",
   "metadata": {},
   "source": [
    "## Exploration des données"
   ]
  },
  {
   "cell_type": "code",
   "execution_count": 3,
   "metadata": {},
   "outputs": [],
   "source": [
    "#Cette méthode permet de vérifier le type d'une colonne d'un dataframe. Si on a plusieurs types dans une même colonne,\n",
    "#Un message d'erreur apparaît.\n",
    "def typecheck(dataframe,colname):\n",
    "    column=dataframe[colname]\n",
    "    type_column=type(column[0])\n",
    "    check=\"clear\"\n",
    "    for i in range(len(column)):\n",
    "        if not isinstance(column[i],type_column):\n",
    "            print(\"Problème: une valeur de la colonne \"+colname+\" est du type: \"+str(type(column[i]))+\"\\n\")\n",
    "            check=\"err\"\n",
    "            break\n",
    "    if check==\"clear\":\n",
    "        print(\"Le type de la colonne \"+colname+\" est: \"+str(type_column)+\"\\n\")\n",
    "    return(check)"
   ]
  },
  {
   "cell_type": "code",
   "execution_count": 4,
   "metadata": {},
   "outputs": [
    {
     "name": "stdout",
     "output_type": "stream",
     "text": [
      "padua\n"
     ]
    }
   ],
   "source": [
    "print(cities[\"unique_name\"][0])"
   ]
  },
  {
   "cell_type": "code",
   "execution_count": 5,
   "metadata": {},
   "outputs": [
    {
     "name": "stdout",
     "output_type": "stream",
     "text": [
      "Problème: une valeur de la colonne unique_name est du type: <class 'float'>\n",
      "\n"
     ]
    },
    {
     "data": {
      "text/plain": [
       "'err'"
      ]
     },
     "execution_count": 5,
     "metadata": {},
     "output_type": "execute_result"
    }
   ],
   "source": [
    "typecheck(cities,\"unique_name\")"
   ]
  },
  {
   "cell_type": "code",
   "execution_count": 6,
   "metadata": {},
   "outputs": [],
   "source": [
    "#Compte le nombre de valeurs manquantes pour une colonne\n",
    "def countMissingValues(dataframe,colname):\n",
    "    column=dataframe[colname]\n",
    "    count_mv=0\n",
    "    for value in column:\n",
    "        if isinstance(value,(int,float)):\n",
    "            if np.isnan(value):\n",
    "                count_mv+=1\n",
    "        if isinstance(value,str):\n",
    "            if value==\"\":\n",
    "                count_mv+=1\n",
    "    print(\"Le nombre d'observations manquantes pour la colonne \"+colname+\" est: \"+str(count_mv))\n",
    "    return count_mv"
   ]
  },
  {
   "cell_type": "code",
   "execution_count": 7,
   "metadata": {},
   "outputs": [],
   "source": [
    "def getMissingValueLine(dataframe,colname):\n",
    "    MissingValues=[]\n",
    "    column=dataframe[colname]\n",
    "    line=-1\n",
    "    for value in column:\n",
    "        line+=1\n",
    "        if isinstance(value,(int,float)):\n",
    "            if np.isnan(value):\n",
    "                MissingValues.append(line)\n",
    "        if isinstance(value,str):\n",
    "            if value==\"\":\n",
    "                MissingValues.append(line)\n",
    "    return(MissingValues)"
   ]
  },
  {
   "cell_type": "code",
   "execution_count": 8,
   "metadata": {},
   "outputs": [],
   "source": [
    "def first_impression(dataframe):\n",
    "    print(\"Nombre total d'observations: \"+str(len(dataframe.iloc[:,0])))\n",
    "    for colname in dataframe.columns:\n",
    "        column=dataframe[colname]\n",
    "        typecheck(dataframe,colname)\n",
    "        countMissingValues(dataframe,colname)"
   ]
  },
  {
   "cell_type": "code",
   "execution_count": 133,
   "metadata": {},
   "outputs": [
    {
     "name": "stdout",
     "output_type": "stream",
     "text": [
      "Nombre total d'observations: 74168\n",
      "Le type de la colonne id est: <class 'numpy.int64'>\n",
      "\n",
      "Le nombre d'observations manquantes pour la colonne id est: 0\n",
      "Le type de la colonne company est: <class 'numpy.int64'>\n",
      "\n",
      "Le nombre d'observations manquantes pour la colonne company est: 0\n",
      "Le type de la colonne o_station est: <class 'numpy.float64'>\n",
      "\n",
      "Le nombre d'observations manquantes pour la colonne o_station est: 41441\n",
      "Le type de la colonne d_station est: <class 'numpy.float64'>\n",
      "\n",
      "Le nombre d'observations manquantes pour la colonne d_station est: 41441\n",
      "Le type de la colonne departure_ts est: <class 'str'>\n",
      "\n",
      "Le nombre d'observations manquantes pour la colonne departure_ts est: 0\n",
      "Le type de la colonne arrival_ts est: <class 'str'>\n",
      "\n",
      "Le nombre d'observations manquantes pour la colonne arrival_ts est: 0\n",
      "Le type de la colonne price_in_cents est: <class 'numpy.int64'>\n",
      "\n",
      "Le nombre d'observations manquantes pour la colonne price_in_cents est: 0\n",
      "Le type de la colonne search_ts est: <class 'str'>\n",
      "\n",
      "Le nombre d'observations manquantes pour la colonne search_ts est: 0\n",
      "Problème: une valeur de la colonne middle_stations est du type: <class 'str'>\n",
      "\n",
      "Le nombre d'observations manquantes pour la colonne middle_stations est: 41441\n",
      "Problème: une valeur de la colonne other_companies est du type: <class 'str'>\n",
      "\n",
      "Le nombre d'observations manquantes pour la colonne other_companies est: 41441\n",
      "Le type de la colonne o_city est: <class 'numpy.int64'>\n",
      "\n",
      "Le nombre d'observations manquantes pour la colonne o_city est: 0\n",
      "Le type de la colonne d_city est: <class 'numpy.int64'>\n",
      "\n",
      "Le nombre d'observations manquantes pour la colonne d_city est: 0\n"
     ]
    }
   ],
   "source": [
    "first_impression(tickets)\n",
    "#On remarque qu'il y a 41441 observations où l'on n'a pas d'informattions sur les stations"
   ]
  },
  {
   "cell_type": "code",
   "execution_count": 134,
   "metadata": {},
   "outputs": [
    {
     "name": "stdout",
     "output_type": "stream",
     "text": [
      "Nombre total d'observations: 8040\n",
      "Le type de la colonne id est: <class 'numpy.int64'>\n",
      "\n",
      "Le nombre d'observations manquantes pour la colonne id est: 0\n",
      "Le type de la colonne local_name est: <class 'str'>\n",
      "\n",
      "Le nombre d'observations manquantes pour la colonne local_name est: 0\n",
      "Problème: une valeur de la colonne unique_name est du type: <class 'float'>\n",
      "\n",
      "Le nombre d'observations manquantes pour la colonne unique_name est: 1\n",
      "Le type de la colonne latitude est: <class 'numpy.float64'>\n",
      "\n",
      "Le nombre d'observations manquantes pour la colonne latitude est: 0\n",
      "Le type de la colonne longitude est: <class 'numpy.float64'>\n",
      "\n",
      "Le nombre d'observations manquantes pour la colonne longitude est: 0\n",
      "Le type de la colonne population est: <class 'numpy.float64'>\n",
      "\n",
      "Le nombre d'observations manquantes pour la colonne population est: 7671\n"
     ]
    }
   ],
   "source": [
    "first_impression(cities)\n",
    "#On s' qu'il manque une valeur pour la colonne \"local_name\""
   ]
  },
  {
   "cell_type": "code",
   "execution_count": 158,
   "metadata": {},
   "outputs": [
    {
     "name": "stdout",
     "output_type": "stream",
     "text": [
      "[6866]\n",
      "id                              10244\n",
      "local_name     , Hamburg, Deutschland\n",
      "unique_name                       NaN\n",
      "latitude                      39.6134\n",
      "longitude                     2.88043\n",
      "population                        NaN\n",
      "Name: 6866, dtype: object\n"
     ]
    }
   ],
   "source": [
    "print(getMissingValueLine(cities,\"unique_name\"))\n",
    "print(cities.iloc[6866,:])\n",
    "#En y regardant de plus près, on voit que l'erreur vient du fait u'Hambourg est à la fois une ville et un lander"
   ]
  },
  {
   "cell_type": "code",
   "execution_count": 9,
   "metadata": {},
   "outputs": [
    {
     "name": "stdout",
     "output_type": "stream",
     "text": [
      "id                                     10244\n",
      "local_name     Hamburg, Hamburg, Deutschland\n",
      "unique_name                          hamburg\n",
      "latitude                             39.6134\n",
      "longitude                            2.88043\n",
      "population                               NaN\n",
      "Name: 6866, dtype: object\n"
     ]
    }
   ],
   "source": [
    "cities.loc[cities.id==10244,'local_name']=\"Hamburg, Hamburg, Deutschland\"\n",
    "cities.loc[cities.id==10244,'unique_name']=\"hamburg\"\n",
    "print(cities.iloc[6866,:])"
   ]
  },
  {
   "cell_type": "code",
   "execution_count": 164,
   "metadata": {},
   "outputs": [
    {
     "name": "stdout",
     "output_type": "stream",
     "text": [
      "Nombre total d'observations: 227\n",
      "Le type de la colonne id est: <class 'numpy.int64'>\n",
      "\n",
      "Le nombre d'observations manquantes pour la colonne id est: 0\n",
      "Le type de la colonne company_id est: <class 'numpy.int64'>\n",
      "\n",
      "Le nombre d'observations manquantes pour la colonne company_id est: 0\n",
      "Problème: une valeur de la colonne provider_id est du type: <class 'str'> à la ligne 8\n",
      "\n",
      "Le nombre d'observations manquantes pour la colonne provider_id est: 14\n",
      "Le type de la colonne name est: <class 'str'>\n",
      "\n",
      "Le nombre d'observations manquantes pour la colonne name est: 0\n",
      "Le type de la colonne fullname est: <class 'str'>\n",
      "\n",
      "Le nombre d'observations manquantes pour la colonne fullname est: 0\n",
      "Problème: une valeur de la colonne has_wifi est du type: <class 'float'> à la ligne 212\n",
      "\n",
      "Le nombre d'observations manquantes pour la colonne has_wifi est: 3\n",
      "Problème: une valeur de la colonne has_plug est du type: <class 'float'> à la ligne 212\n",
      "\n",
      "Le nombre d'observations manquantes pour la colonne has_plug est: 3\n",
      "Problème: une valeur de la colonne has_adjustable_seats est du type: <class 'float'> à la ligne 212\n",
      "\n",
      "Le nombre d'observations manquantes pour la colonne has_adjustable_seats est: 3\n",
      "Problème: une valeur de la colonne has_bicycle est du type: <class 'float'> à la ligne 212\n",
      "\n",
      "Le nombre d'observations manquantes pour la colonne has_bicycle est: 3\n",
      "Le type de la colonne transport_type est: <class 'str'>\n",
      "\n",
      "Le nombre d'observations manquantes pour la colonne transport_type est: 0\n"
     ]
    }
   ],
   "source": [
    "first_impression(providers)"
   ]
  },
  {
   "cell_type": "code",
   "execution_count": 173,
   "metadata": {},
   "outputs": [
    {
     "name": "stdout",
     "output_type": "stream",
     "text": [
      "[212, 224, 225]\n"
     ]
    }
   ],
   "source": [
    "print(getMissingValueLine(providers,\"has_wifi\"))"
   ]
  },
  {
   "cell_type": "code",
   "execution_count": 179,
   "metadata": {},
   "outputs": [
    {
     "data": {
      "text/plain": [
       "id                          8374\n",
       "company_id                    20\n",
       "provider_id                  NaN\n",
       "name                    transdev\n",
       "fullname                Transdev\n",
       "has_wifi                     NaN\n",
       "has_plug                     NaN\n",
       "has_adjustable_seats         NaN\n",
       "has_bicycle                  NaN\n",
       "transport_type               bus\n",
       "Name: 212, dtype: object"
      ]
     },
     "execution_count": 179,
     "metadata": {},
     "output_type": "execute_result"
    }
   ],
   "source": [
    "providers.iloc[212,:]"
   ]
  },
  {
   "cell_type": "code",
   "execution_count": 180,
   "metadata": {},
   "outputs": [
    {
     "data": {
      "text/plain": [
       "id                       8387\n",
       "company_id                 30\n",
       "provider_id               NaN\n",
       "name                    vatry\n",
       "fullname                Vatry\n",
       "has_wifi                  NaN\n",
       "has_plug                  NaN\n",
       "has_adjustable_seats      NaN\n",
       "has_bicycle               NaN\n",
       "transport_type            bus\n",
       "Name: 224, dtype: object"
      ]
     },
     "execution_count": 180,
     "metadata": {},
     "output_type": "execute_result"
    }
   ],
   "source": [
    "providers.iloc[224,:]"
   ]
  },
  {
   "cell_type": "code",
   "execution_count": 181,
   "metadata": {},
   "outputs": [
    {
     "data": {
      "text/plain": [
       "id                         8388\n",
       "company_id                   40\n",
       "provider_id                 NaN\n",
       "name                    beauval\n",
       "fullname                Beauval\n",
       "has_wifi                    NaN\n",
       "has_plug                    NaN\n",
       "has_adjustable_seats        NaN\n",
       "has_bicycle                 NaN\n",
       "transport_type              bus\n",
       "Name: 225, dtype: object"
      ]
     },
     "execution_count": 181,
     "metadata": {},
     "output_type": "execute_result"
    }
   ],
   "source": [
    "providers.iloc[225,:]"
   ]
  },
  {
   "cell_type": "code",
   "execution_count": 136,
   "metadata": {},
   "outputs": [
    {
     "name": "stdout",
     "output_type": "stream",
     "text": [
      "Nombre total d'observations: 11035\n",
      "Le type de la colonne id est: <class 'numpy.int64'>\n",
      "\n",
      "Le nombre d'observations manquantes pour la colonne id est: 0\n",
      "Le type de la colonne unique_name est: <class 'str'>\n",
      "\n",
      "Le nombre d'observations manquantes pour la colonne unique_name est: 0\n",
      "Le type de la colonne latitude est: <class 'numpy.float64'>\n",
      "\n",
      "Le nombre d'observations manquantes pour la colonne latitude est: 0\n",
      "Le type de la colonne longitude est: <class 'numpy.float64'>\n",
      "\n",
      "Le nombre d'observations manquantes pour la colonne longitude est: 0\n"
     ]
    }
   ],
   "source": [
    "first_impression(stations)\n",
    "#ras"
   ]
  },
  {
   "cell_type": "markdown",
   "metadata": {},
   "source": [
    "## La durée des trajets"
   ]
  },
  {
   "cell_type": "code",
   "execution_count": 18,
   "metadata": {},
   "outputs": [],
   "source": [
    "departure_ts=tickets['departure_ts']\n",
    "arrival_ts=tickets['arrival_ts']"
   ]
  },
  {
   "cell_type": "code",
   "execution_count": 19,
   "metadata": {},
   "outputs": [],
   "source": [
    "tzLocDep=[]\n",
    "for dep in departure_ts:\n",
    "    tzLocDep.append(dep.find('+'))"
   ]
  },
  {
   "cell_type": "code",
   "execution_count": 20,
   "metadata": {},
   "outputs": [],
   "source": [
    "tzLocArr=[]\n",
    "for arr in arrival_ts:\n",
    "    tzLocArr.append(arr.find('+'))"
   ]
  },
  {
   "cell_type": "code",
   "execution_count": 21,
   "metadata": {},
   "outputs": [],
   "source": [
    "def count(int,list):\n",
    "    res=0\n",
    "    for i in list:\n",
    "        if i==int:\n",
    "            res+=1\n",
    "    return(res)\n",
    "    "
   ]
  },
  {
   "cell_type": "code",
   "execution_count": 22,
   "metadata": {},
   "outputs": [
    {
     "name": "stdout",
     "output_type": "stream",
     "text": [
      "74168\n"
     ]
    }
   ],
   "source": [
    "print(count(19,tzLocDep))"
   ]
  },
  {
   "cell_type": "code",
   "execution_count": 23,
   "metadata": {},
   "outputs": [
    {
     "name": "stdout",
     "output_type": "stream",
     "text": [
      "74168\n"
     ]
    }
   ],
   "source": [
    "print(count(19,tzLocArr))"
   ]
  },
  {
   "cell_type": "code",
   "execution_count": 33,
   "metadata": {},
   "outputs": [],
   "source": [
    "#Un rapide coup d'oeil aux données permet de voir que la timezone des Timestamps n'est pas dans un format régulier.\n",
    "#Fort heureusement, comme tous les ts sont au même format, la fonction pour régulariser les ts est très simple.\n",
    "def regularize_TzFormat(TsList):\n",
    "    regList=[]\n",
    "    tsInt=0\n",
    "    for ts in TsList:\n",
    "        tsInt=datetime.datetime.strptime(ts+\"00\",\"%Y-%m-%d %H:%M:%S%z\").timestamp()\n",
    "        regList.append(tsInt)\n",
    "    return(regList)"
   ]
  },
  {
   "cell_type": "code",
   "execution_count": 39,
   "metadata": {},
   "outputs": [],
   "source": [
    "arrival=regularize_TzFormat(tickets['arrival_ts'])\n",
    "departure=regularize_TzFormat(tickets['departure_ts'])\n",
    "travelTime_Seconds=np.subtract(arrival,departure)"
   ]
  },
  {
   "cell_type": "code",
   "execution_count": 45,
   "metadata": {},
   "outputs": [],
   "source": [
    "travelTime=pd.DataFrame({\"travelTime_ts\":travelTime_Seconds})\n",
    "tickets=tickets.join(travelTime)"
   ]
  },
  {
   "cell_type": "markdown",
   "metadata": {},
   "source": [
    "## La distance parcourue"
   ]
  },
  {
   "cell_type": "code",
   "execution_count": 48,
   "metadata": {},
   "outputs": [],
   "source": [
    "import geopy.distance"
   ]
  },
  {
   "cell_type": "code",
   "execution_count": 133,
   "metadata": {},
   "outputs": [],
   "source": [
    "#Quand c'est possible, on préfère prendre les coordonnées géographiques des stations. Sinon, on utilisera les \n",
    "#coordonnées de la ville de départ et de la ville d'arrivée.\n",
    "\n",
    "#La fonction ComputeDistance récupère \n",
    "def ComputeDistance(row_id):\n",
    "    \n",
    "    if not np.isnan(tickets.loc[tickets['id']==row_id,\"o_station\"].values[0]):\n",
    "        OriginId=tickets.loc[tickets['id']==row_id,\"o_station\"].values[0]\n",
    "        DestinationId=tickets.loc[tickets['id']==row_id,\"d_station\"].values[0]\n",
    "                \n",
    "        OriginLat=float(stations.loc[stations['id']==OriginId,'latitude'].values[0])\n",
    "        OriginLong=float(stations.loc[stations['id']==OriginId,'longitude'].values[0])\n",
    "        \n",
    "        DestinationLat=float(stations.loc[stations['id']==DestinationId,'latitude'].values[0])\n",
    "        DestinationLong=float(stations.loc[stations['id']==DestinationId,'longitude'].values[0])\n",
    "\n",
    "        \n",
    "    else:\n",
    "        OriginId=tickets.loc[tickets['id']==row_id,\"o_city\"].values[0]\n",
    "        DestinationId=tickets.loc[tickets['id']==row_id,\"d_city\"].values[0]\n",
    "        \n",
    "        OriginLat=float(cities.loc[cities['id']==OriginId,'latitude'].values[0])\n",
    "        OriginLong=float(cities.loc[cities['id']==OriginId,'longitude'].values[0])\n",
    "\n",
    "\n",
    "        \n",
    "        DestinationLat=float(cities.loc[cities['id']==DestinationId,'latitude'].values[0])\n",
    "        DestinationLong=float(cities.loc[cities['id']==DestinationId,'longitude'].values[0])\n",
    "        \n",
    "        \n",
    "    OriginCoord=[OriginLat,OriginLong]\n",
    "    DestinationCoord=[DestinationLat,DestinationLong]\n",
    "    \n",
    "    return(geopy.distance.distance(OriginCoord,DestinationCoord).km)"
   ]
  },
  {
   "cell_type": "code",
   "execution_count": 148,
   "metadata": {},
   "outputs": [],
   "source": [
    "#Pour éviter de calculer deux fois une distance entre deux mêmes points, cette fonction enregistre les trajets \n",
    "#uniques passés (sinon le calcul de l'ensemble des distances prend un peu de temps...)\n",
    "def getTicketDistance():\n",
    "    pastTravels_stations={}\n",
    "    pastTravels_cities={}\n",
    "    ticketDistance=[]\n",
    "    for ticket in tickets['id']:\n",
    "\n",
    "        OriginId=tickets.loc[tickets['id']==ticket,\"o_station\"].values[0]\n",
    "        DestinationId=tickets.loc[tickets['id']==ticket,\"d_station\"].values[0]\n",
    "        #Si On a les infos dans la station, on utilise le dictionnaire des stations...\n",
    "        if not np.isnan(tickets.loc[tickets['id']==ticket,\"o_station\"].values[0]):\n",
    "            OriginId=tickets.loc[tickets['id']==ticket,\"o_station\"].values[0]\n",
    "            DestinationId=tickets.loc[tickets['id']==ticket,\"d_station\"].values[0]\n",
    "            \n",
    "            if (OriginId,DestinationId) in pastTravels_stations.keys():\n",
    "                ticketDistance.append(pastTravels_stations[(OriginId,DestinationId)])\n",
    "            #Si le trajet est nouveau, on met à jour le dictionnaire des trajets passés\n",
    "            else:\n",
    "                td=ComputeDistance(ticket)\n",
    "                pastTravels_stations[(OriginId,DestinationId)]=td\n",
    "                ticketDistance.append(td)\n",
    "        #... Sinon on utilise le dictionnaire des villes\n",
    "        else:\n",
    "            OriginId=tickets.loc[tickets['id']==ticket,\"o_city\"].values[0]\n",
    "            DestinationId=tickets.loc[tickets['id']==ticket,\"d_city\"].values[0]\n",
    "            \n",
    "            if (OriginId,DestinationId) in pastTravels_cities.keys():\n",
    "                ticketDistance.append(pastTravels_cities[(OriginId,DestinationId)])\n",
    "            #Si le trajet est nouveau, on met à jour le dictionnaire des trajets passés\n",
    "            else:\n",
    "                td=ComputeDistance(ticket)\n",
    "                pastTravels_cities[(OriginId,DestinationId)]=td\n",
    "                ticketDistance.append(td)\n",
    "    \n",
    "    return(ticketDistance)"
   ]
  },
  {
   "cell_type": "code",
   "execution_count": 149,
   "metadata": {},
   "outputs": [
    {
     "name": "stdout",
     "output_type": "stream",
     "text": [
      "734.5781757831573\n"
     ]
    }
   ],
   "source": [
    "before=time.time()\n",
    "ticketDistance=getTicketDistance()\n",
    "print(time.time()-before)"
   ]
  },
  {
   "cell_type": "code",
   "execution_count": 150,
   "metadata": {},
   "outputs": [
    {
     "name": "stdout",
     "output_type": "stream",
     "text": [
      "819.3387143611908\n"
     ]
    }
   ],
   "source": [
    "before=time.time()\n",
    "ticketDistance=[ComputeDistance(row_id) for row_id in tickets['id']]\n",
    "print(time.time()-before)"
   ]
  },
  {
   "cell_type": "code",
   "execution_count": 116,
   "metadata": {},
   "outputs": [],
   "source": [
    "travelDistance=pd.DataFrame({\"travelDistance\":ticketDistance})\n",
    "tickets=tickets.join(travelDistance)"
   ]
  },
  {
   "cell_type": "code",
   "execution_count": 117,
   "metadata": {},
   "outputs": [
    {
     "name": "stdout",
     "output_type": "stream",
     "text": [
      "0        503.136831\n",
      "1        504.102129\n",
      "2        504.252089\n",
      "3        504.252089\n",
      "4        504.252089\n",
      "5        205.933671\n",
      "6        205.933671\n",
      "7        205.933671\n",
      "8        205.933671\n",
      "9        205.933671\n",
      "10       205.933671\n",
      "11       205.933671\n",
      "12       205.933671\n",
      "13       205.933671\n",
      "14       205.933671\n",
      "15       205.933671\n",
      "16       205.933671\n",
      "17       205.933671\n",
      "18       205.933671\n",
      "19       205.933671\n",
      "20       205.933671\n",
      "21       205.933671\n",
      "22       205.933671\n",
      "23       205.933671\n",
      "24       205.933671\n",
      "25       205.933671\n",
      "26       205.933671\n",
      "27       205.933671\n",
      "28       205.933671\n",
      "29       205.933671\n",
      "            ...    \n",
      "74138    339.046766\n",
      "74139    339.046766\n",
      "74140    339.046766\n",
      "74141    339.046766\n",
      "74142    339.046766\n",
      "74143    339.046766\n",
      "74144    339.046766\n",
      "74145    330.043171\n",
      "74146    330.043171\n",
      "74147    339.876577\n",
      "74148    330.043171\n",
      "74149    339.876577\n",
      "74150    339.876577\n",
      "74151    339.876577\n",
      "74152    339.876577\n",
      "74153    330.043171\n",
      "74154    339.876577\n",
      "74155    339.876577\n",
      "74156    365.474446\n",
      "74157    343.998792\n",
      "74158    344.560189\n",
      "74159    348.122937\n",
      "74160    343.998792\n",
      "74161    343.998792\n",
      "74162    340.444685\n",
      "74163    344.560189\n",
      "74164    340.444685\n",
      "74165    343.998792\n",
      "74166    340.444685\n",
      "74167    348.122937\n",
      "Name: travelDistance, Length: 74168, dtype: float64\n"
     ]
    }
   ],
   "source": [
    "print(tickets[\"travelDistance\"])"
   ]
  },
  {
   "cell_type": "code",
   "execution_count": 145,
   "metadata": {},
   "outputs": [
    {
     "data": {
      "text/plain": [
       "False"
      ]
     },
     "execution_count": 145,
     "metadata": {},
     "output_type": "execute_result"
    }
   ],
   "source": [
    "a={('b','u'):'d',('c','v'):'e'}\n",
    "('b','v') in a.keys()"
   ]
  },
  {
   "cell_type": "code",
   "execution_count": null,
   "metadata": {},
   "outputs": [],
   "source": []
  }
 ],
 "metadata": {
  "kernelspec": {
   "display_name": "Python 3",
   "language": "python",
   "name": "python3"
  },
  "language_info": {
   "codemirror_mode": {
    "name": "ipython",
    "version": 3
   },
   "file_extension": ".py",
   "mimetype": "text/x-python",
   "name": "python",
   "nbconvert_exporter": "python",
   "pygments_lexer": "ipython3",
   "version": "3.6.5"
  }
 },
 "nbformat": 4,
 "nbformat_minor": 2
}
