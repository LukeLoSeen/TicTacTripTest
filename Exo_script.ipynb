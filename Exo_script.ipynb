{
 "cells": [
  {
   "cell_type": "code",
   "execution_count": 1,
   "metadata": {},
   "outputs": [],
   "source": [
    "import pandas as pd\n",
    "import numpy as np\n",
    "import matplotlib.pyplot as plt\n",
    "import datetime\n",
    "import time"
   ]
  },
  {
   "cell_type": "code",
   "execution_count": 2,
   "metadata": {},
   "outputs": [],
   "source": [
    "cities=pd.read_csv(\"data/cities.csv\")\n",
    "providers=pd.read_csv(\"data/providers.csv\")\n",
    "stations=pd.read_csv(\"data/stations.csv\")\n",
    "tickets=pd.read_csv(\"data/ticket_data.csv\")"
   ]
  },
  {
   "cell_type": "code",
   "execution_count": 3,
   "metadata": {},
   "outputs": [
    {
     "name": "stdout",
     "output_type": "stream",
     "text": [
      "            id  company  o_station  d_station            departure_ts  \\\n",
      "0      6795025     8385        NaN        NaN  2017-10-13 14:00:00+00   \n",
      "1      6795026        9       63.0     1044.0  2017-10-13 13:05:00+00   \n",
      "2      6795027     8377     5905.0     6495.0  2017-10-13 13:27:00+00   \n",
      "3      6795028     8377     5905.0     6495.0  2017-10-13 13:27:00+00   \n",
      "4      6795029     8381     5905.0     6495.0  2017-10-13 21:46:00+00   \n",
      "5      6795030     8385        NaN        NaN  2017-10-06 05:30:00+00   \n",
      "6      6795031     8385        NaN        NaN  2017-10-06 07:00:42+00   \n",
      "7      6795032     8385        NaN        NaN  2017-10-06 07:10:00+00   \n",
      "8      6795033     8385        NaN        NaN  2017-10-06 10:00:00+00   \n",
      "9      6795034     8385        NaN        NaN  2017-10-06 10:00:00+00   \n",
      "10     6795035     8385        NaN        NaN  2017-10-06 12:40:00+00   \n",
      "11     6795036     8385        NaN        NaN  2017-10-06 13:00:00+00   \n",
      "12     6795037     8385        NaN        NaN  2017-10-06 13:00:00+00   \n",
      "13     6795038     8385        NaN        NaN  2017-10-06 13:00:00+00   \n",
      "14     6795039     8385        NaN        NaN  2017-10-06 13:00:00+00   \n",
      "15     6795040     8385        NaN        NaN  2017-10-06 13:40:00+00   \n",
      "16     6795041     8385        NaN        NaN  2017-10-06 14:00:16+00   \n",
      "17     6795042     8385        NaN        NaN  2017-10-06 14:00:00+00   \n",
      "18     6795043     8385        NaN        NaN  2017-10-06 14:00:00+00   \n",
      "19     6795044     8385        NaN        NaN  2017-10-06 14:00:00+00   \n",
      "20     6795045     8385        NaN        NaN  2017-10-06 14:50:00+00   \n",
      "21     6795046     8385        NaN        NaN  2017-10-06 15:10:00+00   \n",
      "22     6795047     8385        NaN        NaN  2017-10-06 15:30:00+00   \n",
      "23     6795048     8385        NaN        NaN  2017-10-06 15:50:00+00   \n",
      "24     6795049     8385        NaN        NaN  2017-10-06 15:50:00+00   \n",
      "25     6795050     8385        NaN        NaN  2017-10-06 16:00:00+00   \n",
      "26     6795051     8385        NaN        NaN  2017-10-06 16:00:00+00   \n",
      "27     6795052     8385        NaN        NaN  2017-10-06 16:00:00+00   \n",
      "28     6795053     8385        NaN        NaN  2017-10-06 16:50:00+00   \n",
      "29     6795054     8385        NaN        NaN  2017-10-06 17:00:00+00   \n",
      "...        ...      ...        ...        ...                     ...   \n",
      "74138  6869163     8385        NaN        NaN  2017-10-27 18:00:00+00   \n",
      "74139  6869164     8385        NaN        NaN  2017-10-27 18:30:00+00   \n",
      "74140  6869165     8385        NaN        NaN  2017-10-27 18:30:00+00   \n",
      "74141  6869166     8385        NaN        NaN  2017-10-27 18:30:00+00   \n",
      "74142  6869167     8385        NaN        NaN  2017-10-27 19:10:00+00   \n",
      "74143  6869168     8385        NaN        NaN  2017-10-27 21:20:00+00   \n",
      "74144  6869169     8385        NaN        NaN  2017-10-27 21:50:00+00   \n",
      "74145  6869170     8376      767.0     6591.0  2017-10-27 06:38:00+00   \n",
      "74146  6869175     8376      767.0     6591.0  2017-10-27 16:38:00+00   \n",
      "74147  6869180     8376     6799.0     6591.0  2017-10-27 21:46:00+00   \n",
      "74148  6869171     8376      767.0     6591.0  2017-10-27 06:38:00+00   \n",
      "74149  6869177     8376     6799.0     6591.0  2017-10-27 17:14:00+00   \n",
      "74150  6869172     8376     6799.0     6591.0  2017-10-27 08:14:00+00   \n",
      "74151  6869178     8376     6799.0     6591.0  2017-10-27 19:40:00+00   \n",
      "74152  6869173     8376     6799.0     6591.0  2017-10-27 10:40:00+00   \n",
      "74153  6869176     8376      767.0     6591.0  2017-10-27 16:38:00+00   \n",
      "74154  6869174     8376     6799.0     6591.0  2017-10-27 14:14:00+00   \n",
      "74155  6869179     8376     6799.0     6591.0  2017-10-27 20:46:00+00   \n",
      "74156  6869181       13        3.0    10729.0  2017-10-27 01:40:00+00   \n",
      "74157  6869183     8371    10642.0      304.0  2017-10-27 07:00:00+00   \n",
      "74158  6869184        9      279.0    10729.0  2017-10-27 07:00:00+00   \n",
      "74159  6869186     8371    10642.0    10729.0  2017-10-27 08:30:00+00   \n",
      "74160  6869188     8371    10642.0      304.0  2017-10-27 10:00:00+00   \n",
      "74161  6869190     8371    10642.0      304.0  2017-10-27 14:00:00+00   \n",
      "74162  6869192       13      279.0      304.0  2017-10-27 19:55:00+00   \n",
      "74163  6869182       13      279.0    10729.0  2017-10-27 02:30:00+00   \n",
      "74164  6869185        9      279.0      304.0  2017-10-27 07:00:00+00   \n",
      "74165  6869187     8371    10642.0      304.0  2017-10-27 08:30:00+00   \n",
      "74166  6869189       13      279.0      304.0  2017-10-27 13:25:00+00   \n",
      "74167  6869191     8371    10642.0    10729.0  2017-10-27 14:45:00+00   \n",
      "\n",
      "                   arrival_ts  price_in_cents                   search_ts  \\\n",
      "0      2017-10-13 20:10:00+00            4550  2017-10-01 00:13:31.327+00   \n",
      "1      2017-10-14 06:55:00+00            1450  2017-10-01 00:13:35.773+00   \n",
      "2      2017-10-14 21:24:00+00            7400  2017-10-01 00:13:40.212+00   \n",
      "3      2017-10-14 11:02:00+00           13500  2017-10-01 00:13:40.213+00   \n",
      "4      2017-10-14 19:32:00+00            7710  2017-10-01 00:13:40.213+00   \n",
      "5      2017-10-06 08:30:00+00            1800  2017-10-01 01:03:18.948+00   \n",
      "6      2017-10-06 09:30:42+00            2150  2017-10-01 01:03:18.948+00   \n",
      "7      2017-10-06 09:40:00+00            1700  2017-10-01 01:03:18.948+00   \n",
      "8      2017-10-06 12:50:00+00            1700  2017-10-01 01:03:18.948+00   \n",
      "9      2017-10-06 12:50:00+00            1900  2017-10-01 01:03:18.948+00   \n",
      "10     2017-10-06 15:40:00+00            1550  2017-10-01 01:03:18.948+00   \n",
      "11     2017-10-06 15:40:00+00            1450  2017-10-01 01:03:18.948+00   \n",
      "12     2017-10-06 15:30:00+00            1550  2017-10-01 01:03:18.948+00   \n",
      "13     2017-10-06 15:30:00+00            1550  2017-10-01 01:03:18.948+00   \n",
      "14     2017-10-06 15:30:00+00            1800   2017-10-01 01:03:18.95+00   \n",
      "15     2017-10-06 16:30:00+00            1700   2017-10-01 01:03:18.95+00   \n",
      "16     2017-10-06 16:30:16+00            1700   2017-10-01 01:03:18.95+00   \n",
      "17     2017-10-06 17:00:00+00            1800   2017-10-01 01:03:18.95+00   \n",
      "18     2017-10-06 17:20:00+00            1900   2017-10-01 01:03:18.95+00   \n",
      "19     2017-10-06 16:40:00+00            2300   2017-10-01 01:03:18.95+00   \n",
      "20     2017-10-06 17:40:00+00            1700   2017-10-01 01:03:18.95+00   \n",
      "21     2017-10-06 17:50:00+00            1800   2017-10-01 01:03:18.95+00   \n",
      "22     2017-10-06 17:50:00+00            1450   2017-10-01 01:03:18.95+00   \n",
      "23     2017-10-06 18:50:00+00            1700   2017-10-01 01:03:18.95+00   \n",
      "24     2017-10-06 18:50:00+00            1800   2017-10-01 01:03:18.95+00   \n",
      "25     2017-10-06 19:00:00+00            1700   2017-10-01 01:03:18.95+00   \n",
      "26     2017-10-06 19:00:00+00            1800   2017-10-01 01:03:18.95+00   \n",
      "27     2017-10-06 18:50:00+00            1800  2017-10-01 01:03:18.951+00   \n",
      "28     2017-10-06 19:20:00+00            1550  2017-10-01 01:03:18.951+00   \n",
      "29     2017-10-06 19:30:00+00            1300  2017-10-01 01:03:18.951+00   \n",
      "...                       ...             ...                         ...   \n",
      "74138  2017-10-27 22:20:00+00            3000  2017-10-19 10:35:31.269+00   \n",
      "74139  2017-10-27 22:30:00+00            2900  2017-10-19 10:35:31.269+00   \n",
      "74140  2017-10-27 22:50:00+00            2900  2017-10-19 10:35:31.269+00   \n",
      "74141  2017-10-27 23:10:00+00            3000  2017-10-19 10:35:31.269+00   \n",
      "74142  2017-10-27 23:00:00+00            2650  2017-10-19 10:35:31.269+00   \n",
      "74143  2017-10-28 01:10:00+00            2900  2017-10-19 10:35:31.269+00   \n",
      "74144  2017-10-28 01:40:00+00            3600  2017-10-19 10:35:31.269+00   \n",
      "74145  2017-10-27 23:02:00+00            1950  2017-10-19 10:35:40.167+00   \n",
      "74146  2017-10-27 19:16:00+00            8020  2017-10-19 10:35:40.168+00   \n",
      "74147  2017-10-28 23:02:00+00            8450  2017-10-19 10:35:40.168+00   \n",
      "74148  2017-10-27 08:55:00+00            2150  2017-10-19 10:35:40.168+00   \n",
      "74149  2017-10-27 19:54:00+00            8700  2017-10-19 10:35:40.168+00   \n",
      "74150  2017-10-27 11:38:00+00            7650  2017-10-19 10:35:40.168+00   \n",
      "74151  2017-10-28 08:30:00+00            8450  2017-10-19 10:35:40.168+00   \n",
      "74152  2017-10-27 14:50:00+00            7850  2017-10-19 10:35:40.168+00   \n",
      "74153  2017-10-27 18:54:00+00            8400  2017-10-19 10:35:40.168+00   \n",
      "74154  2017-10-27 17:16:00+00            7620  2017-10-19 10:35:40.168+00   \n",
      "74155  2017-10-27 23:02:00+00            8450  2017-10-19 10:35:40.168+00   \n",
      "74156  2017-10-27 16:00:00+00            2590  2017-10-19 10:35:42.942+00   \n",
      "74157  2017-10-27 21:10:00+00            2090  2017-10-19 10:35:42.943+00   \n",
      "74158  2017-10-27 16:00:00+00            2400  2017-10-19 10:35:42.943+00   \n",
      "74159  2017-10-27 16:00:00+00            2400  2017-10-19 10:35:42.943+00   \n",
      "74160  2017-10-27 22:45:00+00            2100  2017-10-19 10:35:42.943+00   \n",
      "74161  2017-10-27 21:15:00+00            2700  2017-10-19 10:35:42.943+00   \n",
      "74162  2017-10-28 08:00:00+00            4480  2017-10-19 10:35:42.943+00   \n",
      "74163  2017-10-27 16:00:00+00            2590  2017-10-19 10:35:42.943+00   \n",
      "74164  2017-10-27 13:30:00+00            2700  2017-10-19 10:35:42.943+00   \n",
      "74165  2017-10-27 15:15:00+00            3000  2017-10-19 10:35:42.943+00   \n",
      "74166  2017-10-27 21:10:00+00            2880  2017-10-19 10:35:42.943+00   \n",
      "74167  2017-10-27 21:40:00+00            2000  2017-10-19 10:35:42.943+00   \n",
      "\n",
      "           middle_stations other_companies  o_city  d_city  \n",
      "0                      NaN             NaN     611     542  \n",
      "1                {149,418}            {13}     611     542  \n",
      "2      {798,798,6794,6246}     {8377,8376}     611     542  \n",
      "3      {798,798,6794,6246}     {8377,8376}     611     542  \n",
      "4              {5983,5983}          {8380}     611     542  \n",
      "5                      NaN             NaN     628     453  \n",
      "6                      NaN             NaN     628     453  \n",
      "7                      NaN             NaN     628     453  \n",
      "8                      NaN             NaN     628     453  \n",
      "9                      NaN             NaN     628     453  \n",
      "10                     NaN             NaN     628     453  \n",
      "11                     NaN             NaN     628     453  \n",
      "12                     NaN             NaN     628     453  \n",
      "13                     NaN             NaN     628     453  \n",
      "14                     NaN             NaN     628     453  \n",
      "15                     NaN             NaN     628     453  \n",
      "16                     NaN             NaN     628     453  \n",
      "17                     NaN             NaN     628     453  \n",
      "18                     NaN             NaN     628     453  \n",
      "19                     NaN             NaN     628     453  \n",
      "20                     NaN             NaN     628     453  \n",
      "21                     NaN             NaN     628     453  \n",
      "22                     NaN             NaN     628     453  \n",
      "23                     NaN             NaN     628     453  \n",
      "24                     NaN             NaN     628     453  \n",
      "25                     NaN             NaN     628     453  \n",
      "26                     NaN             NaN     628     453  \n",
      "27                     NaN             NaN     628     453  \n",
      "28                     NaN             NaN     628     453  \n",
      "29                     NaN             NaN     628     453  \n",
      "...                    ...             ...     ...     ...  \n",
      "74138                  NaN             NaN     628     562  \n",
      "74139                  NaN             NaN     628     562  \n",
      "74140                  NaN             NaN     628     562  \n",
      "74141                  NaN             NaN     628     562  \n",
      "74142                  NaN             NaN     628     562  \n",
      "74143                  NaN             NaN     628     562  \n",
      "74144                  NaN             NaN     628     562  \n",
      "74145            {408,408}          {8377}     628     562  \n",
      "74146            {583,583}          {8380}     628     562  \n",
      "74147            {408,408}          {8377}     628     562  \n",
      "74148            {408,408}          {8376}     628     562  \n",
      "74149            {583,583}          {8376}     628     562  \n",
      "74150            {583,583}          {8376}     628     562  \n",
      "74151          {3748,3748}          {8380}     628     562  \n",
      "74152            {408,408}          {8376}     628     562  \n",
      "74153            {583,583}          {8376}     628     562  \n",
      "74154            {583,583}          {8380}     628     562  \n",
      "74155            {408,408}          {8377}     628     562  \n",
      "74156            {408,408}          {8371}     628     562  \n",
      "74157            {863,863}            {13}     628     562  \n",
      "74158          {1105,1105}          {8371}     628     562  \n",
      "74159          {1105,1105}          {8371}     628     562  \n",
      "74160          {1105,1105}             {9}     628     562  \n",
      "74161          {1105,1105}             {9}     628     562  \n",
      "74162            {863,863}            {13}     628     562  \n",
      "74163            {408,408}          {8371}     628     562  \n",
      "74164          {1105,1105}             {9}     628     562  \n",
      "74165          {1105,1105}             {9}     628     562  \n",
      "74166            {863,863}            {13}     628     562  \n",
      "74167            {863,863}          {8371}     628     562  \n",
      "\n",
      "[74168 rows x 12 columns]\n"
     ]
    }
   ],
   "source": [
    "print(tickets)"
   ]
  },
  {
   "cell_type": "code",
   "execution_count": 24,
   "metadata": {},
   "outputs": [],
   "source": [
    "#Fonction générique pour compter le nombre d'éléments dans une liste\n",
    "def count(char,list):\n",
    "    res=0\n",
    "    for i in list:\n",
    "        if i==char:\n",
    "            res+=1\n",
    "    return(res)"
   ]
  },
  {
   "cell_type": "markdown",
   "metadata": {},
   "source": [
    "## Exploration des données"
   ]
  },
  {
   "cell_type": "code",
   "execution_count": 4,
   "metadata": {},
   "outputs": [],
   "source": [
    "#Cette méthode permet de vérifier le type d'une colonne d'un dataframe. Si on a plusieurs types dans une même colonne,\n",
    "#Un message d'erreur apparaît.\n",
    "def typecheck(dataframe,colname):\n",
    "    column=dataframe[colname]\n",
    "    type_column=type(column[0])\n",
    "    check=\"clear\"\n",
    "    for i in range(len(column)):\n",
    "        if not isinstance(column[i],type_column):\n",
    "            print(\"Problème: une valeur de la colonne \"+colname+\" est du type: \"+str(type(column[i]))+\"\\n\")\n",
    "            check=\"err\"\n",
    "            break\n",
    "    if check==\"clear\":\n",
    "        print(\"Le type de la colonne \"+colname+\" est: \"+str(type_column)+\"\\n\")\n",
    "    return(check)"
   ]
  },
  {
   "cell_type": "code",
   "execution_count": 5,
   "metadata": {},
   "outputs": [
    {
     "name": "stdout",
     "output_type": "stream",
     "text": [
      "padua\n"
     ]
    }
   ],
   "source": [
    "print(cities[\"unique_name\"][0])"
   ]
  },
  {
   "cell_type": "code",
   "execution_count": 6,
   "metadata": {},
   "outputs": [
    {
     "name": "stdout",
     "output_type": "stream",
     "text": [
      "Problème: une valeur de la colonne unique_name est du type: <class 'float'>\n",
      "\n"
     ]
    },
    {
     "data": {
      "text/plain": [
       "'err'"
      ]
     },
     "execution_count": 6,
     "metadata": {},
     "output_type": "execute_result"
    }
   ],
   "source": [
    "typecheck(cities,\"unique_name\")"
   ]
  },
  {
   "cell_type": "code",
   "execution_count": 7,
   "metadata": {},
   "outputs": [],
   "source": [
    "#Compte le nombre de valeurs manquantes pour une colonne\n",
    "def countMissingValues(dataframe,colname):\n",
    "    column=dataframe[colname]\n",
    "    count_mv=0\n",
    "    for value in column:\n",
    "        if isinstance(value,(int,float)):\n",
    "            if np.isnan(value):\n",
    "                count_mv+=1\n",
    "        if isinstance(value,str):\n",
    "            if value==\"\":\n",
    "                count_mv+=1\n",
    "    print(\"Le nombre d'observations manquantes pour la colonne \"+colname+\" est: \"+str(count_mv))\n",
    "    return count_mv"
   ]
  },
  {
   "cell_type": "code",
   "execution_count": 8,
   "metadata": {},
   "outputs": [],
   "source": [
    "#Cette fonction renvoie les lignes des valeurs manquantes pour pouvoir vérifier si ces données sont manquantes\n",
    "#en raison d'une erreur informatique ou humaine ou si il s'agit simpement d'information non disponible.\n",
    "def getMissingValueLine(dataframe,colname):\n",
    "    MissingValues=[]\n",
    "    column=dataframe[colname]\n",
    "    line=-1\n",
    "    for value in column:\n",
    "        line+=1\n",
    "        if isinstance(value,(int,float)):\n",
    "            if np.isnan(value):\n",
    "                MissingValues.append(line)\n",
    "        if isinstance(value,str):\n",
    "            if value==\"\":\n",
    "                MissingValues.append(line)\n",
    "    return(MissingValues)"
   ]
  },
  {
   "cell_type": "code",
   "execution_count": 9,
   "metadata": {},
   "outputs": [],
   "source": [
    "#Pour chaque colonne d'un dataframe, cette fonction renvoie le type de données et \n",
    "#le nombre d'observations manquantes\n",
    "def first_impression(dataframe):\n",
    "    print(\"Nombre total d'observations: \"+str(len(dataframe.iloc[:,0])))\n",
    "    for colname in dataframe.columns:\n",
    "        column=dataframe[colname]\n",
    "        typecheck(dataframe,colname)\n",
    "        countMissingValues(dataframe,colname)"
   ]
  },
  {
   "cell_type": "code",
   "execution_count": 10,
   "metadata": {},
   "outputs": [
    {
     "name": "stdout",
     "output_type": "stream",
     "text": [
      "Nombre total d'observations: 74168\n",
      "Le type de la colonne id est: <class 'numpy.int64'>\n",
      "\n",
      "Le nombre d'observations manquantes pour la colonne id est: 0\n",
      "Le type de la colonne company est: <class 'numpy.int64'>\n",
      "\n",
      "Le nombre d'observations manquantes pour la colonne company est: 0\n",
      "Le type de la colonne o_station est: <class 'numpy.float64'>\n",
      "\n",
      "Le nombre d'observations manquantes pour la colonne o_station est: 41441\n",
      "Le type de la colonne d_station est: <class 'numpy.float64'>\n",
      "\n",
      "Le nombre d'observations manquantes pour la colonne d_station est: 41441\n",
      "Le type de la colonne departure_ts est: <class 'str'>\n",
      "\n",
      "Le nombre d'observations manquantes pour la colonne departure_ts est: 0\n",
      "Le type de la colonne arrival_ts est: <class 'str'>\n",
      "\n",
      "Le nombre d'observations manquantes pour la colonne arrival_ts est: 0\n",
      "Le type de la colonne price_in_cents est: <class 'numpy.int64'>\n",
      "\n",
      "Le nombre d'observations manquantes pour la colonne price_in_cents est: 0\n",
      "Le type de la colonne search_ts est: <class 'str'>\n",
      "\n",
      "Le nombre d'observations manquantes pour la colonne search_ts est: 0\n",
      "Problème: une valeur de la colonne middle_stations est du type: <class 'str'>\n",
      "\n",
      "Le nombre d'observations manquantes pour la colonne middle_stations est: 41441\n",
      "Problème: une valeur de la colonne other_companies est du type: <class 'str'>\n",
      "\n",
      "Le nombre d'observations manquantes pour la colonne other_companies est: 41441\n",
      "Le type de la colonne o_city est: <class 'numpy.int64'>\n",
      "\n",
      "Le nombre d'observations manquantes pour la colonne o_city est: 0\n",
      "Le type de la colonne d_city est: <class 'numpy.int64'>\n",
      "\n",
      "Le nombre d'observations manquantes pour la colonne d_city est: 0\n"
     ]
    }
   ],
   "source": [
    "first_impression(tickets)\n",
    "#On remarque qu'il y a 41441 observations où l'on n'a pas d'informattions sur les stations"
   ]
  },
  {
   "cell_type": "code",
   "execution_count": 11,
   "metadata": {},
   "outputs": [
    {
     "name": "stdout",
     "output_type": "stream",
     "text": [
      "Nombre total d'observations: 8040\n",
      "Le type de la colonne id est: <class 'numpy.int64'>\n",
      "\n",
      "Le nombre d'observations manquantes pour la colonne id est: 0\n",
      "Le type de la colonne local_name est: <class 'str'>\n",
      "\n",
      "Le nombre d'observations manquantes pour la colonne local_name est: 0\n",
      "Problème: une valeur de la colonne unique_name est du type: <class 'float'>\n",
      "\n",
      "Le nombre d'observations manquantes pour la colonne unique_name est: 1\n",
      "Le type de la colonne latitude est: <class 'numpy.float64'>\n",
      "\n",
      "Le nombre d'observations manquantes pour la colonne latitude est: 0\n",
      "Le type de la colonne longitude est: <class 'numpy.float64'>\n",
      "\n",
      "Le nombre d'observations manquantes pour la colonne longitude est: 0\n",
      "Le type de la colonne population est: <class 'numpy.float64'>\n",
      "\n",
      "Le nombre d'observations manquantes pour la colonne population est: 7671\n"
     ]
    }
   ],
   "source": [
    "first_impression(cities)\n",
    "#On remarque qu'il manque une valeur pour la colonne \"local_name\""
   ]
  },
  {
   "cell_type": "code",
   "execution_count": 12,
   "metadata": {},
   "outputs": [
    {
     "name": "stdout",
     "output_type": "stream",
     "text": [
      "[6866]\n",
      "id                              10244\n",
      "local_name     , Hamburg, Deutschland\n",
      "unique_name                       NaN\n",
      "latitude                      39.6134\n",
      "longitude                     2.88043\n",
      "population                        NaN\n",
      "Name: 6866, dtype: object\n"
     ]
    }
   ],
   "source": [
    "print(getMissingValueLine(cities,\"unique_name\"))\n",
    "print(cities.iloc[6866,:])\n",
    "#En y regardant de plus près, on voit que l'erreur vient du fait u'Hambourg est à la fois une ville et un lander"
   ]
  },
  {
   "cell_type": "code",
   "execution_count": 13,
   "metadata": {},
   "outputs": [
    {
     "name": "stdout",
     "output_type": "stream",
     "text": [
      "id                                     10244\n",
      "local_name     Hamburg, Hamburg, Deutschland\n",
      "unique_name                          hamburg\n",
      "latitude                             39.6134\n",
      "longitude                            2.88043\n",
      "population                               NaN\n",
      "Name: 6866, dtype: object\n"
     ]
    }
   ],
   "source": [
    "cities.loc[cities.id==10244,'local_name']=\"Hamburg, Hamburg, Deutschland\"\n",
    "cities.loc[cities.id==10244,'unique_name']=\"hamburg\"\n",
    "print(cities.iloc[6866,:])"
   ]
  },
  {
   "cell_type": "code",
   "execution_count": 14,
   "metadata": {},
   "outputs": [
    {
     "name": "stdout",
     "output_type": "stream",
     "text": [
      "Nombre total d'observations: 227\n",
      "Le type de la colonne id est: <class 'numpy.int64'>\n",
      "\n",
      "Le nombre d'observations manquantes pour la colonne id est: 0\n",
      "Le type de la colonne company_id est: <class 'numpy.int64'>\n",
      "\n",
      "Le nombre d'observations manquantes pour la colonne company_id est: 0\n",
      "Problème: une valeur de la colonne provider_id est du type: <class 'str'>\n",
      "\n",
      "Le nombre d'observations manquantes pour la colonne provider_id est: 14\n",
      "Le type de la colonne name est: <class 'str'>\n",
      "\n",
      "Le nombre d'observations manquantes pour la colonne name est: 0\n",
      "Le type de la colonne fullname est: <class 'str'>\n",
      "\n",
      "Le nombre d'observations manquantes pour la colonne fullname est: 0\n",
      "Problème: une valeur de la colonne has_wifi est du type: <class 'float'>\n",
      "\n",
      "Le nombre d'observations manquantes pour la colonne has_wifi est: 3\n",
      "Problème: une valeur de la colonne has_plug est du type: <class 'float'>\n",
      "\n",
      "Le nombre d'observations manquantes pour la colonne has_plug est: 3\n",
      "Problème: une valeur de la colonne has_adjustable_seats est du type: <class 'float'>\n",
      "\n",
      "Le nombre d'observations manquantes pour la colonne has_adjustable_seats est: 3\n",
      "Problème: une valeur de la colonne has_bicycle est du type: <class 'float'>\n",
      "\n",
      "Le nombre d'observations manquantes pour la colonne has_bicycle est: 3\n",
      "Le type de la colonne transport_type est: <class 'str'>\n",
      "\n",
      "Le nombre d'observations manquantes pour la colonne transport_type est: 0\n"
     ]
    }
   ],
   "source": [
    "first_impression(providers)"
   ]
  },
  {
   "cell_type": "code",
   "execution_count": 15,
   "metadata": {},
   "outputs": [
    {
     "name": "stdout",
     "output_type": "stream",
     "text": [
      "[212, 224, 225]\n"
     ]
    }
   ],
   "source": [
    "print(getMissingValueLine(providers,\"has_wifi\"))"
   ]
  },
  {
   "cell_type": "code",
   "execution_count": 16,
   "metadata": {},
   "outputs": [
    {
     "data": {
      "text/plain": [
       "id                          8374\n",
       "company_id                    20\n",
       "provider_id                  NaN\n",
       "name                    transdev\n",
       "fullname                Transdev\n",
       "has_wifi                     NaN\n",
       "has_plug                     NaN\n",
       "has_adjustable_seats         NaN\n",
       "has_bicycle                  NaN\n",
       "transport_type               bus\n",
       "Name: 212, dtype: object"
      ]
     },
     "execution_count": 16,
     "metadata": {},
     "output_type": "execute_result"
    }
   ],
   "source": [
    "providers.iloc[212,:]"
   ]
  },
  {
   "cell_type": "code",
   "execution_count": 17,
   "metadata": {},
   "outputs": [
    {
     "data": {
      "text/plain": [
       "id                       8387\n",
       "company_id                 30\n",
       "provider_id               NaN\n",
       "name                    vatry\n",
       "fullname                Vatry\n",
       "has_wifi                  NaN\n",
       "has_plug                  NaN\n",
       "has_adjustable_seats      NaN\n",
       "has_bicycle               NaN\n",
       "transport_type            bus\n",
       "Name: 224, dtype: object"
      ]
     },
     "execution_count": 17,
     "metadata": {},
     "output_type": "execute_result"
    }
   ],
   "source": [
    "providers.iloc[224,:]"
   ]
  },
  {
   "cell_type": "code",
   "execution_count": 18,
   "metadata": {},
   "outputs": [
    {
     "data": {
      "text/plain": [
       "id                         8388\n",
       "company_id                   40\n",
       "provider_id                 NaN\n",
       "name                    beauval\n",
       "fullname                Beauval\n",
       "has_wifi                    NaN\n",
       "has_plug                    NaN\n",
       "has_adjustable_seats        NaN\n",
       "has_bicycle                 NaN\n",
       "transport_type              bus\n",
       "Name: 225, dtype: object"
      ]
     },
     "execution_count": 18,
     "metadata": {},
     "output_type": "execute_result"
    }
   ],
   "source": [
    "providers.iloc[225,:]"
   ]
  },
  {
   "cell_type": "code",
   "execution_count": 19,
   "metadata": {},
   "outputs": [
    {
     "name": "stdout",
     "output_type": "stream",
     "text": [
      "Nombre total d'observations: 11035\n",
      "Le type de la colonne id est: <class 'numpy.int64'>\n",
      "\n",
      "Le nombre d'observations manquantes pour la colonne id est: 0\n",
      "Le type de la colonne unique_name est: <class 'str'>\n",
      "\n",
      "Le nombre d'observations manquantes pour la colonne unique_name est: 0\n",
      "Le type de la colonne latitude est: <class 'numpy.float64'>\n",
      "\n",
      "Le nombre d'observations manquantes pour la colonne latitude est: 0\n",
      "Le type de la colonne longitude est: <class 'numpy.float64'>\n",
      "\n",
      "Le nombre d'observations manquantes pour la colonne longitude est: 0\n"
     ]
    }
   ],
   "source": [
    "first_impression(stations)\n",
    "#ras"
   ]
  },
  {
   "cell_type": "code",
   "execution_count": 20,
   "metadata": {},
   "outputs": [
    {
     "name": "stdout",
     "output_type": "stream",
     "text": [
      "prix minimum: 3.0€\n",
      "prix maximum: 385.5€\n",
      "prix moyen: 43.83€\n"
     ]
    }
   ],
   "source": [
    "print(\"prix minimum: \"+str(np.round(min(tickets['price_in_cents'])/100,2))+\"€\")\n",
    "print(\"prix maximum: \"+str(np.round(max(tickets['price_in_cents'])/100,2))+\"€\")\n",
    "print(\"prix moyen: \"+str(np.round(np.mean(tickets['price_in_cents'])/100,2))+\"€\")"
   ]
  },
  {
   "cell_type": "markdown",
   "metadata": {},
   "source": [
    "## La durée des trajets"
   ]
  },
  {
   "cell_type": "code",
   "execution_count": 48,
   "metadata": {},
   "outputs": [
    {
     "ename": "ValueError",
     "evalue": "time data '2017-10-13 14:00:00+00' does not match format '%Y-%m-%d %H:%M:%S%z'",
     "output_type": "error",
     "traceback": [
      "\u001b[1;31m---------------------------------------------------------------------------\u001b[0m",
      "\u001b[1;31mValueError\u001b[0m                                Traceback (most recent call last)",
      "\u001b[1;32m<ipython-input-48-9fcd1846a771>\u001b[0m in \u001b[0;36m<module>\u001b[1;34m()\u001b[0m\n\u001b[0;32m      1\u001b[0m \u001b[0mts\u001b[0m\u001b[1;33m=\u001b[0m\u001b[0mtickets\u001b[0m\u001b[1;33m[\u001b[0m\u001b[1;34m'departure_ts'\u001b[0m\u001b[1;33m]\u001b[0m\u001b[1;33m[\u001b[0m\u001b[1;36m0\u001b[0m\u001b[1;33m]\u001b[0m\u001b[1;33m\u001b[0m\u001b[0m\n\u001b[1;32m----> 2\u001b[1;33m \u001b[0mdatetime\u001b[0m\u001b[1;33m.\u001b[0m\u001b[0mdatetime\u001b[0m\u001b[1;33m.\u001b[0m\u001b[0mstrptime\u001b[0m\u001b[1;33m(\u001b[0m\u001b[0mts\u001b[0m\u001b[1;33m,\u001b[0m\u001b[1;34m\"%Y-%m-%d %H:%M:%S%z\"\u001b[0m\u001b[1;33m)\u001b[0m\u001b[1;33m.\u001b[0m\u001b[0mtimestamp\u001b[0m\u001b[1;33m(\u001b[0m\u001b[1;33m)\u001b[0m\u001b[1;33m\u001b[0m\u001b[0m\n\u001b[0m",
      "\u001b[1;32m~\\Anaconda3\\lib\\_strptime.py\u001b[0m in \u001b[0;36m_strptime_datetime\u001b[1;34m(cls, data_string, format)\u001b[0m\n\u001b[0;32m    563\u001b[0m     \"\"\"Return a class cls instance based on the input string and the\n\u001b[0;32m    564\u001b[0m     format string.\"\"\"\n\u001b[1;32m--> 565\u001b[1;33m     \u001b[0mtt\u001b[0m\u001b[1;33m,\u001b[0m \u001b[0mfraction\u001b[0m \u001b[1;33m=\u001b[0m \u001b[0m_strptime\u001b[0m\u001b[1;33m(\u001b[0m\u001b[0mdata_string\u001b[0m\u001b[1;33m,\u001b[0m \u001b[0mformat\u001b[0m\u001b[1;33m)\u001b[0m\u001b[1;33m\u001b[0m\u001b[0m\n\u001b[0m\u001b[0;32m    566\u001b[0m     \u001b[0mtzname\u001b[0m\u001b[1;33m,\u001b[0m \u001b[0mgmtoff\u001b[0m \u001b[1;33m=\u001b[0m \u001b[0mtt\u001b[0m\u001b[1;33m[\u001b[0m\u001b[1;33m-\u001b[0m\u001b[1;36m2\u001b[0m\u001b[1;33m:\u001b[0m\u001b[1;33m]\u001b[0m\u001b[1;33m\u001b[0m\u001b[0m\n\u001b[0;32m    567\u001b[0m     \u001b[0margs\u001b[0m \u001b[1;33m=\u001b[0m \u001b[0mtt\u001b[0m\u001b[1;33m[\u001b[0m\u001b[1;33m:\u001b[0m\u001b[1;36m6\u001b[0m\u001b[1;33m]\u001b[0m \u001b[1;33m+\u001b[0m \u001b[1;33m(\u001b[0m\u001b[0mfraction\u001b[0m\u001b[1;33m,\u001b[0m\u001b[1;33m)\u001b[0m\u001b[1;33m\u001b[0m\u001b[0m\n",
      "\u001b[1;32m~\\Anaconda3\\lib\\_strptime.py\u001b[0m in \u001b[0;36m_strptime\u001b[1;34m(data_string, format)\u001b[0m\n\u001b[0;32m    360\u001b[0m     \u001b[1;32mif\u001b[0m \u001b[1;32mnot\u001b[0m \u001b[0mfound\u001b[0m\u001b[1;33m:\u001b[0m\u001b[1;33m\u001b[0m\u001b[0m\n\u001b[0;32m    361\u001b[0m         raise ValueError(\"time data %r does not match format %r\" %\n\u001b[1;32m--> 362\u001b[1;33m                          (data_string, format))\n\u001b[0m\u001b[0;32m    363\u001b[0m     \u001b[1;32mif\u001b[0m \u001b[0mlen\u001b[0m\u001b[1;33m(\u001b[0m\u001b[0mdata_string\u001b[0m\u001b[1;33m)\u001b[0m \u001b[1;33m!=\u001b[0m \u001b[0mfound\u001b[0m\u001b[1;33m.\u001b[0m\u001b[0mend\u001b[0m\u001b[1;33m(\u001b[0m\u001b[1;33m)\u001b[0m\u001b[1;33m:\u001b[0m\u001b[1;33m\u001b[0m\u001b[0m\n\u001b[0;32m    364\u001b[0m         raise ValueError(\"unconverted data remains: %s\" %\n",
      "\u001b[1;31mValueError\u001b[0m: time data '2017-10-13 14:00:00+00' does not match format '%Y-%m-%d %H:%M:%S%z'"
     ]
    }
   ],
   "source": [
    "ts=tickets['departure_ts'][0]\n",
    "datetime.datetime.strptime(ts,\"%Y-%m-%d %H:%M:%S%z\").timestamp()\n",
    "#On remarque que le format de la timezone n'est pas régulier: il est au format +HH au lieu de +HHMM"
   ]
  },
  {
   "cell_type": "code",
   "execution_count": 45,
   "metadata": {},
   "outputs": [],
   "source": [
    "departure_ts=tickets['departure_ts']\n",
    "arrival_ts=tickets['arrival_ts']"
   ]
  },
  {
   "cell_type": "code",
   "execution_count": 46,
   "metadata": {},
   "outputs": [],
   "source": [
    "tzLocDep=[]\n",
    "for dep in departure_ts:\n",
    "    tzLocDep.append(dep.find('+'))"
   ]
  },
  {
   "cell_type": "code",
   "execution_count": 47,
   "metadata": {},
   "outputs": [],
   "source": [
    "tzLocArr=[]\n",
    "for arr in arrival_ts:\n",
    "    tzLocArr.append(arr.find('+'))"
   ]
  },
  {
   "cell_type": "code",
   "execution_count": 25,
   "metadata": {},
   "outputs": [
    {
     "name": "stdout",
     "output_type": "stream",
     "text": [
      "74168\n"
     ]
    }
   ],
   "source": [
    "print(count(19,tzLocDep))"
   ]
  },
  {
   "cell_type": "code",
   "execution_count": 26,
   "metadata": {},
   "outputs": [
    {
     "name": "stdout",
     "output_type": "stream",
     "text": [
      "74168\n"
     ]
    }
   ],
   "source": [
    "print(count(19,tzLocArr))\n",
    "#Fort heureusement, comme tous les ts sont au même format, la fonction pour régulariser les ts est très simple."
   ]
  },
  {
   "cell_type": "code",
   "execution_count": 27,
   "metadata": {},
   "outputs": [],
   "source": [
    "\n",
    "def regularize_TzFormat(TsList):\n",
    "    regList=[]\n",
    "    tsInt=0\n",
    "    for ts in TsList:\n",
    "        tsInt=datetime.datetime.strptime(ts+\"00\",\"%Y-%m-%d %H:%M:%S%z\").timestamp()\n",
    "        regList.append(tsInt)\n",
    "    return(regList)"
   ]
  },
  {
   "cell_type": "code",
   "execution_count": 28,
   "metadata": {},
   "outputs": [],
   "source": [
    "arrival=regularize_TzFormat(tickets['arrival_ts'])\n",
    "departure=regularize_TzFormat(tickets['departure_ts'])\n",
    "travelTime_Seconds=np.subtract(arrival,departure)"
   ]
  },
  {
   "cell_type": "code",
   "execution_count": 29,
   "metadata": {},
   "outputs": [],
   "source": [
    "travelTime=pd.DataFrame({\"travelTime_seconds\":travelTime_Seconds})\n",
    "tickets=tickets.join(travelTime)"
   ]
  },
  {
   "cell_type": "code",
   "execution_count": 30,
   "metadata": {},
   "outputs": [
    {
     "name": "stdout",
     "output_type": "stream",
     "text": [
      "temps de trajet minimal: 20.0 minutes\n",
      "temps de trajet maximal: 29571.0 minutes\n",
      "temps de trajet moyen: 424.6207933340524 minutes\n"
     ]
    }
   ],
   "source": [
    "print(\"temps de trajet minimal: \"+str(min(tickets['travelTime_seconds'])/60)+\" minutes\")\n",
    "print(\"temps de trajet maximal: \"+str(max(tickets['travelTime_seconds'])/60)+\" minutes\")\n",
    "print(\"temps de trajet moyen: \"+str(np.mean(tickets['travelTime_seconds'])/60)+\" minutes\")"
   ]
  },
  {
   "cell_type": "code",
   "execution_count": 33,
   "metadata": {},
   "outputs": [
    {
     "data": {
      "text/plain": [
       "id                                       6797687\n",
       "company                                     8385\n",
       "o_station                                    NaN\n",
       "d_station                                    NaN\n",
       "departure_ts              2017-09-08 06:00:00+00\n",
       "arrival_ts                2017-09-08 12:10:00+00\n",
       "price_in_cents                              3800\n",
       "search_ts             2017-10-02 05:40:59.343+00\n",
       "middle_stations                              NaN\n",
       "other_companies                              NaN\n",
       "o_city                                       504\n",
       "d_city                                        76\n",
       "travelTime_seconds                         22200\n",
       "Name: 2662, dtype: object"
      ]
     },
     "execution_count": 33,
     "metadata": {},
     "output_type": "execute_result"
    }
   ],
   "source": [
    "tickets.iloc[np.argmin(arrival),:]"
   ]
  },
  {
   "cell_type": "code",
   "execution_count": 34,
   "metadata": {},
   "outputs": [
    {
     "data": {
      "text/plain": [
       "id                                       6803756\n",
       "company                                     8371\n",
       "o_station                                    470\n",
       "d_station                                    848\n",
       "departure_ts              2018-03-29 16:10:00+00\n",
       "arrival_ts                2018-03-30 05:45:00+00\n",
       "price_in_cents                              2700\n",
       "search_ts             2017-10-04 06:56:37.579+00\n",
       "middle_stations                        {527,527}\n",
       "other_companies                           {8371}\n",
       "o_city                                       455\n",
       "d_city                                      2181\n",
       "travelTime_seconds                         48900\n",
       "Name: 8731, dtype: object"
      ]
     },
     "execution_count": 34,
     "metadata": {},
     "output_type": "execute_result"
    }
   ],
   "source": [
    "tickets.iloc[np.argmax(arrival),:]\n",
    "#Les données s'étalent entre le 8 Septembre 2017 et le 30 Mars 2018"
   ]
  },
  {
   "cell_type": "markdown",
   "metadata": {},
   "source": [
    "## La distance parcourue"
   ]
  },
  {
   "cell_type": "code",
   "execution_count": 35,
   "metadata": {},
   "outputs": [],
   "source": [
    "import geopy.distance"
   ]
  },
  {
   "cell_type": "code",
   "execution_count": 36,
   "metadata": {},
   "outputs": [],
   "source": [
    "#Quand c'est possible, on préfère prendre les coordonnées géographiques des stations. Sinon, on utilisera les \n",
    "#coordonnées de la ville de départ et de la ville d'arrivée.\n",
    "\n",
    "#La fonction ComputeDistance récupère les coordonées de la station de départ ainsi que de la station d'arrivée \n",
    "#lorsque c'est possible. Sinon, ce sont les coordonnées des villes qui sont utilisées.\n",
    "def ComputeDistance(row_id):\n",
    "    \n",
    "    if not np.isnan(tickets.loc[tickets['id']==row_id,\"o_station\"].values[0]):\n",
    "        OriginId=tickets.loc[tickets['id']==row_id,\"o_station\"].values[0]\n",
    "        DestinationId=tickets.loc[tickets['id']==row_id,\"d_station\"].values[0]\n",
    "                \n",
    "        OriginLat=float(stations.loc[stations['id']==OriginId,'latitude'].values[0])\n",
    "        OriginLong=float(stations.loc[stations['id']==OriginId,'longitude'].values[0])\n",
    "        \n",
    "        DestinationLat=float(stations.loc[stations['id']==DestinationId,'latitude'].values[0])\n",
    "        DestinationLong=float(stations.loc[stations['id']==DestinationId,'longitude'].values[0])\n",
    "\n",
    "        \n",
    "    else:\n",
    "        OriginId=tickets.loc[tickets['id']==row_id,\"o_city\"].values[0]\n",
    "        DestinationId=tickets.loc[tickets['id']==row_id,\"d_city\"].values[0]\n",
    "        \n",
    "        OriginLat=float(cities.loc[cities['id']==OriginId,'latitude'].values[0])\n",
    "        OriginLong=float(cities.loc[cities['id']==OriginId,'longitude'].values[0])\n",
    "\n",
    "\n",
    "        \n",
    "        DestinationLat=float(cities.loc[cities['id']==DestinationId,'latitude'].values[0])\n",
    "        DestinationLong=float(cities.loc[cities['id']==DestinationId,'longitude'].values[0])\n",
    "        \n",
    "        \n",
    "    OriginCoord=[OriginLat,OriginLong]\n",
    "    DestinationCoord=[DestinationLat,DestinationLong]\n",
    "    \n",
    "    return(geopy.distance.distance(OriginCoord,DestinationCoord).km)"
   ]
  },
  {
   "cell_type": "code",
   "execution_count": 37,
   "metadata": {},
   "outputs": [],
   "source": [
    "#Pour éviter de calculer deux fois une distance entre deux mêmes points, cette fonction enregistre les trajets \n",
    "#uniques passés (sinon le calcul de l'ensemble des distances prend un peu de temps...)\n",
    "def getTicketDistance():\n",
    "    pastTravels_stations={}\n",
    "    pastTravels_cities={}\n",
    "    ticketDistance=[]\n",
    "    for ticket in tickets['id']:\n",
    "\n",
    "        OriginId=tickets.loc[tickets['id']==ticket,\"o_station\"].values[0]\n",
    "        DestinationId=tickets.loc[tickets['id']==ticket,\"d_station\"].values[0]\n",
    "        #Si On a les infos dans la station, on utilise le dictionnaire des stations...\n",
    "        if not np.isnan(tickets.loc[tickets['id']==ticket,\"o_station\"].values[0]):\n",
    "            OriginId=tickets.loc[tickets['id']==ticket,\"o_station\"].values[0]\n",
    "            DestinationId=tickets.loc[tickets['id']==ticket,\"d_station\"].values[0]\n",
    "            \n",
    "            if (OriginId,DestinationId) in pastTravels_stations.keys():\n",
    "                ticketDistance.append(pastTravels_stations[(OriginId,DestinationId)])\n",
    "            #Si le trajet est nouveau, on met à jour le dictionnaire des trajets passés\n",
    "            else:\n",
    "                td=ComputeDistance(ticket)\n",
    "                pastTravels_stations[(OriginId,DestinationId)]=td\n",
    "                ticketDistance.append(td)\n",
    "        #... Sinon on utilise le dictionnaire des villes\n",
    "        else:\n",
    "            OriginId=tickets.loc[tickets['id']==ticket,\"o_city\"].values[0]\n",
    "            DestinationId=tickets.loc[tickets['id']==ticket,\"d_city\"].values[0]\n",
    "            \n",
    "            if (OriginId,DestinationId) in pastTravels_cities.keys():\n",
    "                ticketDistance.append(pastTravels_cities[(OriginId,DestinationId)])\n",
    "            #Si le trajet est nouveau, on met à jour le dictionnaire des trajets passés\n",
    "            else:\n",
    "                td=ComputeDistance(ticket)\n",
    "                pastTravels_cities[(OriginId,DestinationId)]=td\n",
    "                ticketDistance.append(td)\n",
    "    \n",
    "    return(ticketDistance)"
   ]
  },
  {
   "cell_type": "code",
   "execution_count": 37,
   "metadata": {},
   "outputs": [
    {
     "name": "stdout",
     "output_type": "stream",
     "text": [
      "1093.533634185791\n"
     ]
    }
   ],
   "source": [
    "before=time.time()\n",
    "ticketDistance=[ComputeDistance(row_id) for row_id in tickets['id']]\n",
    "print(time.time()-before)"
   ]
  },
  {
   "cell_type": "code",
   "execution_count": 38,
   "metadata": {},
   "outputs": [
    {
     "name": "stdout",
     "output_type": "stream",
     "text": [
      "818.4493267536163\n"
     ]
    }
   ],
   "source": [
    "#Même si le gain de temps est non-négligeable, l'opération prend tout de même un petit moment\n",
    "before=time.time()\n",
    "ticketDistance=getTicketDistance()\n",
    "print(time.time()-before)"
   ]
  },
  {
   "cell_type": "code",
   "execution_count": 39,
   "metadata": {},
   "outputs": [],
   "source": [
    "travelDistance=pd.DataFrame({\"travelDistance\":ticketDistance})\n",
    "tickets=tickets.join(travelDistance)"
   ]
  },
  {
   "cell_type": "code",
   "execution_count": 40,
   "metadata": {},
   "outputs": [
    {
     "name": "stdout",
     "output_type": "stream",
     "text": [
      "['id' 'company' 'o_station' 'd_station' 'departure_ts' 'arrival_ts'\n",
      " 'price_in_cents' 'search_ts' 'middle_stations' 'other_companies' 'o_city'\n",
      " 'd_city' 'travelTime_seconds' 'travelDistance']\n"
     ]
    }
   ],
   "source": [
    "print(np.array(tickets.columns))"
   ]
  },
  {
   "cell_type": "code",
   "execution_count": 41,
   "metadata": {},
   "outputs": [],
   "source": [
    "tickets_0_200=tickets.loc[tickets.travelDistance<=200]\n",
    "tickets_200_800=tickets.loc[(tickets.travelDistance>200)&(tickets.travelDistance<=800)]\n",
    "tickets_800_2000=tickets.loc[(tickets.travelDistance>800)&(tickets.travelDistance<=2000)]\n",
    "tickets_2000_plus=tickets.loc[tickets.travelDistance>2000]"
   ]
  },
  {
   "cell_type": "code",
   "execution_count": 42,
   "metadata": {},
   "outputs": [
    {
     "name": "stdout",
     "output_type": "stream",
     "text": [
      "74168\n",
      "14225\n",
      "58379\n",
      "1564\n",
      "0\n"
     ]
    }
   ],
   "source": [
    "print(len(tickets))\n",
    "print(len(tickets_0_200))\n",
    "print(len(tickets_200_800))\n",
    "print(len(tickets_800_2000))\n",
    "print(len(tickets_2000_plus))"
   ]
  },
  {
   "cell_type": "code",
   "execution_count": 43,
   "metadata": {},
   "outputs": [
    {
     "data": {
      "text/plain": [
       "74168"
      ]
     },
     "execution_count": 43,
     "metadata": {},
     "output_type": "execute_result"
    }
   ],
   "source": [
    "#On a bien récupéré tous les tickets\n",
    "14225+58379+1564"
   ]
  },
  {
   "cell_type": "code",
   "execution_count": 44,
   "metadata": {},
   "outputs": [
    {
     "name": "stdout",
     "output_type": "stream",
     "text": [
      "Distance minimale: 16.60730555367227 Km\n",
      "Distance maximale: 1870.4566741018598 Km\n",
      "Distance moyenne: 362.6385870408489 Km\n"
     ]
    }
   ],
   "source": [
    "print(\"Distance minimale: \"+str(min(tickets['travelDistance']))+\" Km\")\n",
    "print(\"Distance maximale: \"+str(max(tickets['travelDistance']))+\" Km\")\n",
    "print(\"Distance moyenne: \"+str(np.mean(tickets['travelDistance']))+\" Km\")"
   ]
  },
  {
   "cell_type": "markdown",
   "metadata": {},
   "source": [
    "## Graphiques"
   ]
  },
  {
   "cell_type": "markdown",
   "metadata": {},
   "source": [
    "### Prix/durée  moyen.ne du trajet en fonction de la distance "
   ]
  },
  {
   "cell_type": "code",
   "execution_count": 182,
   "metadata": {},
   "outputs": [],
   "source": [
    "#Pour calculer les moyennes en fonction de la distance, on divise l'échantillon en trois souus-dataframes \n",
    "#correspondant aux trois catégories de trajet.\n",
    "total_mean=np.mean(tickets['price_in_cents'])/100\n",
    "smallTrips_mean=np.mean(tickets_0_200['price_in_cents'])/100\n",
    "mediumTrips_mean=np.mean(tickets_200_800['price_in_cents'])/100\n",
    "longTrips_mean=np.mean(tickets_800_2000['price_in_cents'])/100"
   ]
  },
  {
   "cell_type": "code",
   "execution_count": 183,
   "metadata": {},
   "outputs": [
    {
     "name": "stdout",
     "output_type": "stream",
     "text": [
      "43.82711061374178\n",
      "17.317044639718805\n",
      "49.08272443858236\n",
      "88.76842071611253\n"
     ]
    }
   ],
   "source": [
    "print(total_mean)\n",
    "print(smallTrips_mean)\n",
    "print(mediumTrips_mean)\n",
    "print(longTrips_mean)"
   ]
  },
  {
   "cell_type": "code",
   "execution_count": 435,
   "metadata": {},
   "outputs": [
    {
     "data": {
      "image/png": "[encoded data removed]",
      "text/plain": [
       "<Figure size 432x288 with 1 Axes>"
      ]
     },
     "metadata": {},
     "output_type": "display_data"
    }
   ],
   "source": [
    "mean_prices={'general mean':total_mean,'0-200Km trips':smallTrips_mean,\n",
    "             '201-800Km trips':mediumTrips_mean,'800-2000Km trips':longTrips_mean}\n",
    "\n",
    "means=plt.figure()\n",
    "ax=means.add_axes([0,0,1,1])\n",
    "rects=ax.bar(list(mean_prices.keys()),list(mean_prices.values()))\n",
    "\n",
    "##Rajoute les valeurs de chaque catégorie\n",
    "col=0\n",
    "for v in list(mean_prices.values()):\n",
    "    ax.text(col-0.20,v+1,str(np.round(v,2))+\"€\")\n",
    "    col+=1\n",
    "plt.title(\"Mean price in function of the travelled distance \")\n",
    "plt.show()"
   ]
  },
  {
   "cell_type": "code",
   "execution_count": 443,
   "metadata": {},
   "outputs": [],
   "source": [
    "total_meanTravelTime=np.round(np.mean(tickets['travelTime_seconds'])/60)\n",
    "smallTrips_meanTravelTime=np.round(np.mean(tickets_0_200['travelTime_seconds'])/60)\n",
    "mediumTrips_meanTravelTime=np.round(np.mean(tickets_200_800['travelTime_seconds'])/60)\n",
    "longTrips_meanTravelTime=np.round(np.mean(tickets_800_2000['travelTime_seconds'])/60)"
   ]
  },
  {
   "cell_type": "code",
   "execution_count": 454,
   "metadata": {},
   "outputs": [
    {
     "data": {
      "image/png": "[encoded data removed]",
      "text/plain": [
       "<Figure size 432x288 with 1 Axes>"
      ]
     },
     "metadata": {},
     "output_type": "display_data"
    }
   ],
   "source": [
    "mean_travelTime={'general mean':total_meanTravelTime,'0-200Km trips':smallTrips_meanTravelTime,\n",
    "             '201-800Km trips':mediumTrips_meanTravelTime,'800-2000Km trips':longTrips_meanTravelTime}\n",
    "\n",
    "means=plt.figure()\n",
    "ax=means.add_axes([0,0,1,1])\n",
    "rects=ax.bar(list(mean_travelTime.keys()),list(mean_travelTime.values()))\n",
    "\n",
    "##Rajoute les valeurs de chaque catégorie\n",
    "col=0\n",
    "for v in list(mean_travelTime.values()):\n",
    "    ax.text(col-0.20,v+10,str(int(v))+\" min \")\n",
    "    col+=1\n",
    "plt.title(\"Mean travel time in function of the travelled distance \")\n",
    "plt.show()"
   ]
  },
  {
   "cell_type": "markdown",
   "metadata": {},
   "source": [
    "### Prix/Durée moyen.ne du trajet en fonction du moyen de transport"
   ]
  },
  {
   "cell_type": "code",
   "execution_count": 237,
   "metadata": {},
   "outputs": [],
   "source": [
    "#Pour se pencher sur le prix/temps de trajet en fonction du moyen de transport, on joint les tables\n",
    "#tickets et providers.\n",
    "ticketsProviders=tickets.merge(providers,left_on='company',right_on='id')"
   ]
  },
  {
   "cell_type": "code",
   "execution_count": 455,
   "metadata": {},
   "outputs": [],
   "source": [
    "#On divise l'échantillon en 3 sous-échantillon en fonction du mode de transports utilisés\n",
    "busTickets=ticketsProviders.loc[ticketsProviders['transport_type']=='bus']\n",
    "trainTickets=ticketsProviders.loc[ticketsProviders['transport_type']=='train']\n",
    "carTickets=ticketsProviders.loc[ticketsProviders['transport_type']=='carpooling']"
   ]
  },
  {
   "cell_type": "code",
   "execution_count": 239,
   "metadata": {},
   "outputs": [
    {
     "name": "stdout",
     "output_type": "stream",
     "text": [
      "74168\n",
      "13798\n",
      "18929\n",
      "41441\n",
      "74168\n"
     ]
    }
   ],
   "source": [
    "print(len(ticketsProviders))\n",
    "print(len(busTickets))\n",
    "print(len(trainTickets))\n",
    "print(len(carTickets))\n",
    "print(len(busTickets)+len(carTickets)+len(trainTickets))\n",
    "#On a bien récupéré tous les tickets de l'échantillon en les divisant en ces 3 catégories.\n",
    "#On remarque que la taille de \"carTickets\" correspond au nombre d'observations où les informations\n",
    "#sur les stations sont manquantes. Ceci nous donne la quasi-certitude que nous ne disposons pas les trajets\n",
    "#en voiture n'ont pas de stations associées (ce qui est logique)."
   ]
  },
  {
   "cell_type": "code",
   "execution_count": 240,
   "metadata": {},
   "outputs": [],
   "source": [
    "busTrips_mean=np.mean(busTickets['price_in_cents'])/100\n",
    "trainTrips_mean=np.mean(trainTickets['price_in_cents'])/100\n",
    "carTrips_mean=np.mean(carTickets['price_in_cents'])/100"
   ]
  },
  {
   "cell_type": "code",
   "execution_count": 433,
   "metadata": {},
   "outputs": [
    {
     "data": {
      "image/png": "[encoded data removed]",
      "text/plain": [
       "<Figure size 432x288 with 1 Axes>"
      ]
     },
     "metadata": {},
     "output_type": "display_data"
    }
   ],
   "source": [
    "mean_prices={'general mean':total_mean,'bus trips':busTrips_mean,\n",
    "             'train trips':trainTrips_mean,'car trips':carTrips_mean}\n",
    "\n",
    "means=plt.figure()\n",
    "ax=means.add_axes([0,0,1,1])\n",
    "rects=ax.bar(list(mean_prices.keys()),list(mean_prices.values()))\n",
    "\n",
    "##Rajoute les valeurs de chaque catégorie\n",
    "col=0\n",
    "for v in list(mean_prices.values()):\n",
    "    ax.text(col-0.20,v+1,str(np.round(v,2))+\"€\")\n",
    "    col+=1\n",
    "plt.title(\"Mean price in function of the mean of transport \")\n",
    "plt.show()"
   ]
  },
  {
   "cell_type": "code",
   "execution_count": 459,
   "metadata": {},
   "outputs": [],
   "source": [
    "busTrips_meanTravelTime=np.round(np.mean(busTickets['travelTime_seconds'])/60)\n",
    "trainTrips_meanTravelTime=np.round(np.mean(trainTickets['travelTime_seconds'])/60)\n",
    "carTrips_meanTravelTime=np.round(np.mean(carTickets['travelTime_seconds'])/60)"
   ]
  },
  {
   "cell_type": "code",
   "execution_count": 463,
   "metadata": {},
   "outputs": [
    {
     "data": {
      "image/png": "[encoded data removed]",
      "text/plain": [
       "<Figure size 432x288 with 1 Axes>"
      ]
     },
     "metadata": {},
     "output_type": "display_data"
    }
   ],
   "source": [
    "mean_travelTime={'general mean':total_meanTravelTime,'bus trips':busTrips_meanTravelTime,\n",
    "             'train trips':trainTrips_meanTravelTime,'car trips':carTrips_meanTravelTime}\n",
    "\n",
    "means=plt.figure()\n",
    "ax=means.add_axes([0,0,1,1])\n",
    "rects=ax.bar(list(mean_travelTime.keys()),list(mean_travelTime.values()))\n",
    "\n",
    "##Rajoute les valeurs de chaque catégorie\n",
    "col=0\n",
    "for v in list(mean_travelTime.values()):\n",
    "    ax.text(col-0.20,v+10,str(int(v))+\" min\")\n",
    "    col+=1\n",
    "plt.title(\"Mean travel time in function of the mean of transport \")\n",
    "plt.show()"
   ]
  },
  {
   "cell_type": "markdown",
   "metadata": {},
   "source": [
    "### Compagnies les plus \"rentables\" pour l'utilisateur"
   ]
  },
  {
   "cell_type": "code",
   "execution_count": 249,
   "metadata": {},
   "outputs": [],
   "source": [
    "#Pour l'exercice, j'ai créé une troisième métrique pour les tickets, la \"rentabilité\" qui correspond au coût en \n",
    "#centimes d'euro par kilomètre parcouru d'un trajet.\n",
    "rentability=[ticketsProviders['price_in_cents'][i]/ticketsProviders['travelDistance'][i] \n",
    "             for i in range(len(ticketsProviders))]"
   ]
  },
  {
   "cell_type": "code",
   "execution_count": 252,
   "metadata": {},
   "outputs": [],
   "source": [
    "travelRentability=pd.DataFrame({\"travelRentability\":rentability})\n",
    "ticketsProviders=ticketsProviders.join(travelRentability)"
   ]
  },
  {
   "cell_type": "code",
   "execution_count": 294,
   "metadata": {},
   "outputs": [],
   "source": [
    "#Cette fonction prend en input un dataframe et renvoie la liste des couples (providers,rentabilité moyenne)\n",
    "#pour l'ensemble des providers du dataframe.\n",
    "def meanRentability_byProvider(dataframe):\n",
    "    providers_list=[]\n",
    "    rentability=[]\n",
    "    for provider in set(dataframe['company']):\n",
    "        providers_list.append(dataframe.loc[dataframe['company']==provider,'name'].values[0])\n",
    "        rentability.append(np.mean(dataframe.loc[dataframe['company']==provider,'travelRentability'].values[0]))\n",
    "    return(sorted(zip(rentability,providers_list)))"
   ]
  },
  {
   "cell_type": "code",
   "execution_count": 51,
   "metadata": {},
   "outputs": [
    {
     "name": "stdout",
     "output_type": "stream",
     "text": [
      "214\n",
      "10\n",
      "3\n"
     ]
    }
   ],
   "source": [
    "print(len(providers.loc[providers.transport_type=='bus']))\n",
    "print(len(providers.loc[providers.transport_type=='train']))\n",
    "print(len(providers.loc[(providers.transport_type!='bus')&(providers.transport_type!='train')]))"
   ]
  },
  {
   "cell_type": "code",
   "execution_count": 325,
   "metadata": {},
   "outputs": [],
   "source": [
    "#On va regarder la rentabilité des compagnies en fonction de la distance et du type de transport. On met de côté \n",
    "# la catégorie \"car\" car il n'y a que 3 providers de covoiturage dans notre échantillon. Celà nous laisse donc 6\n",
    "#cas de figures distincts à étudier.\n",
    "tickets_bus_0_200=ticketsProviders.loc[(ticketsProviders['transport_type']=='bus')&\n",
    "                                       (tickets.travelDistance<=200)]\n",
    "tickets_bus_200_800=ticketsProviders.loc[(ticketsProviders['transport_type']=='bus')&\n",
    "                                       ((tickets.travelDistance>200)&(tickets.travelDistance<=800))]\n",
    "tickets_bus_800_2000=ticketsProviders.loc[(ticketsProviders['transport_type']=='bus')&\n",
    "                                       ((tickets.travelDistance>800)&(tickets.travelDistance<=2000))]\n",
    "\n",
    "tickets_train_0_200=ticketsProviders.loc[(ticketsProviders['transport_type']=='train')&\n",
    "                                       (tickets.travelDistance<=200)]\n",
    "tickets_train_200_800=ticketsProviders.loc[(ticketsProviders['transport_type']=='train')&\n",
    "                                       ((tickets.travelDistance>200)&(tickets.travelDistance<=800))]\n",
    "tickets_train_800_2000=ticketsProviders.loc[(ticketsProviders['transport_type']=='train')&\n",
    "                                       ((tickets.travelDistance>800)&(tickets.travelDistance<=2000))]"
   ]
  },
  {
   "cell_type": "code",
   "execution_count": 326,
   "metadata": {},
   "outputs": [],
   "source": [
    "rentability_bus_0_200=meanRentability_byProvider(tickets_bus_0_200)\n",
    "rentability_bus_200_800=meanRentability_byProvider(tickets_bus_200_800)\n",
    "rentability_bus_800_2000=meanRentability_byProvider(tickets_bus_800_2000)\n",
    "\n",
    "rentability_train_0_200=meanRentability_byProvider(tickets_train_0_200)\n",
    "rentability_train_200_800=meanRentability_byProvider(tickets_train_200_800)\n",
    "rentability_train_800_2000=meanRentability_byProvider(tickets_train_800_2000)"
   ]
  },
  {
   "cell_type": "code",
   "execution_count": 327,
   "metadata": {},
   "outputs": [],
   "source": [
    "values_bus0200=[bus[0] for bus in rentability_bus_0_200]\n",
    "names_bus0200=[bus[1] for bus in rentability_bus_0_200]\n",
    "\n",
    "values_bus200800=[bus[0] for bus in rentability_bus_200_800]\n",
    "names_bus200800=[bus[1] for bus in rentability_bus_200_800]\n",
    "\n",
    "values_bus8002000=[bus[0] for bus in rentability_bus_800_2000]\n",
    "names_bus8002000=[bus[1] for bus in rentability_bus_800_2000]\n",
    "\n",
    "\n",
    "values_train0200=[train[0] for train in rentability_train_0_200]\n",
    "names_train0200=[train[1] for train in rentability_train_0_200]\n",
    "\n",
    "values_train200800=[train[0] for train in rentability_train_200_800]\n",
    "names_train200800=[train[1] for train in rentability_train_200_800]\n",
    "\n",
    "values_train8002000=[train[0] for train in rentability_train_800_2000]\n",
    "names_train8002000=[train[1] for train in rentability_train_800_2000]"
   ]
  },
  {
   "cell_type": "code",
   "execution_count": 345,
   "metadata": {},
   "outputs": [],
   "source": [
    "# Fonction qui va nous servir à afficher la valeur des barres pour le barplot.\n",
    "def autolabel(rects,ax):\n",
    "    \"\"\"Attach a text label above each bar, displaying its height.\"\"\"\n",
    "    for rect in rects:\n",
    "        height = np.round(rect.get_height(),2)\n",
    "        ax.annotate('{}'.format(height),\n",
    "                    xy=(rect.get_x() + rect.get_width() / 2, height),\n",
    "                    xytext=(0, 3),  \n",
    "                    textcoords=\"offset points\",\n",
    "                    ha='center', va='bottom')"
   ]
  },
  {
   "cell_type": "code",
   "execution_count": 408,
   "metadata": {},
   "outputs": [
    {
     "data": {
      "image/png": "[encoded data removed]",
      "text/plain": [
       "<Figure size 864x864 with 6 Axes>"
      ]
     },
     "metadata": {},
     "output_type": "display_data"
    }
   ],
   "source": [
    "fig, axs = plt.subplots(3, 2, figsize=(12, 12), sharey=True)\n",
    "rec1=axs[0,0].bar(names_bus0200[0:3], values_bus0200[0:3])\n",
    "autolabel(rec1,axs[0,0])\n",
    "rec2=axs[0,1].bar(names_train0200[0:3], values_train0200[0:3])\n",
    "autolabel(rec2,axs[0,1])\n",
    "\n",
    "rec3=axs[1,0].bar(names_bus200800[0:3], values_bus200800[0:3])\n",
    "autolabel(rec3,axs[1,0])\n",
    "rec4=axs[1,1].bar(names_train200800[0:3], values_train200800[0:3])\n",
    "autolabel(rec4,axs[1,1])\n",
    "\n",
    "rec5=axs[2,0].bar(names_bus8002000[0:3], values_bus8002000[0:3])\n",
    "autolabel(rec5,axs[2,0])\n",
    "rec6=axs[2,1].bar(names_train8002000[0:3], values_train8002000[0:3])\n",
    "autolabel(rec6,axs[2,1])\n",
    "\n",
    "axs[0,0].set_title('Trajets entre 0 et 200 Km en bus')\n",
    "axs[0,1].set_title('Trajets entre 0 et 200 Km en train')\n",
    "axs[1,0].set_title('Trajets entre 201 et 800 Km en bus')\n",
    "axs[1,1].set_title('Trajets entre 201 et 800 Km en train')\n",
    "axs[2,0].set_title('Trajets entre 801 et 2000 Km en bus')\n",
    "axs[2,1].set_title('Trajets entre 801 et 2000 Km en train')\n",
    "fig.suptitle('3 PROVIDERS LES PLUS RENTABLES (EN CENTIME/KM) EN FONCTION DU TYPE DE TRANSPORT ET DE LA DISTANCE DU TRAJET')\n",
    "\n",
    "plt.show()"
   ]
  },
  {
   "cell_type": "markdown",
   "metadata": {},
   "source": [
    "### Répartition des voyages/commandes en fonction du jour de la semaine"
   ]
  },
  {
   "cell_type": "code",
   "execution_count": 386,
   "metadata": {},
   "outputs": [],
   "source": [
    "#Fonction qui renvoie la liste des jours de la semaine et qui prend en input une liste de dates \n",
    "#(sous format String)\n",
    "def getWeekDay(TsList):\n",
    "    dayList=[]\n",
    "    for ts in TsList:\n",
    "        try:\n",
    "            tsDay=datetime.datetime.strptime(ts+\"00\",\"%Y-%m-%d %H:%M:%S%z\").strftime('%A')\n",
    "        except:\n",
    "                tsDay=datetime.datetime.strptime(ts[0:ts.find('.')]+ts[ts.find('+'):]+\"00\",\"%Y-%m-%d %H:%M:%S%z\").strftime('%A')\n",
    "        dayList.append(tsDay)\n",
    "    return(dayList)"
   ]
  },
  {
   "cell_type": "code",
   "execution_count": 388,
   "metadata": {},
   "outputs": [],
   "source": [
    "travel_weekday=getWeekDay(tickets['departure_ts'])\n",
    "search_weekday=getWeekDay(tickets['search_ts'])"
   ]
  },
  {
   "cell_type": "code",
   "execution_count": 391,
   "metadata": {},
   "outputs": [],
   "source": [
    "travelWeekday=pd.DataFrame({\"travelWeekday\":travel_weekday})\n",
    "ticketsProviders=ticketsProviders.join(travelWeekday)\n",
    "\n",
    "searchWeekday=pd.DataFrame({\"searchWeekday\":search_weekday})\n",
    "ticketsProviders=ticketsProviders.join(searchWeekday)"
   ]
  },
  {
   "cell_type": "code",
   "execution_count": 405,
   "metadata": {},
   "outputs": [],
   "source": [
    "travelWeekday_proportions=[count(\"Monday\",travel_weekday),count(\"Tuesday\",travel_weekday),\n",
    "count(\"Wednesday\",travel_weekday),count(\"Thursday\",travel_weekday),count(\"Friday\",travel_weekday),\n",
    "count(\"Saturday\",travel_weekday),count(\"Sunday\",travel_weekday)]\n",
    "\n",
    "searchWeekday_proportions=[count(\"Monday\",search_weekday),count(\"Tuesday\",search_weekday),\n",
    "count(\"Wednesday\",search_weekday),count(\"Thursday\",search_weekday),count(\"Friday\",search_weekday),\n",
    "count(\"Saturday\",search_weekday),count(\"Sunday\",search_weekday)]"
   ]
  },
  {
   "cell_type": "code",
   "execution_count": 412,
   "metadata": {},
   "outputs": [
    {
     "data": {
      "image/png": "[encoded data removed]",
      "text/plain": [
       "<Figure size 432x288 with 1 Axes>"
      ]
     },
     "metadata": {},
     "output_type": "display_data"
    }
   ],
   "source": [
    "labels='Monday','Tuesday','Wednesday','Thursday','Friday','Satuday','Sunday'\n",
    "props=travelWeekday_proportions\n",
    "explode = (0, 0, 0, 0,0.1,0,0)\n",
    "\n",
    "fig,ax=plt.subplots()\n",
    "ax.pie(props, explode=explode,labels=labels, autopct='%1.1f%%',\n",
    "        shadow=True, startangle=90)\n",
    "ax.axis('equal')\n",
    "\n",
    "plt.title(\"Proportion des trajets en fonction du jour de la semaine\",y=1.1)\n",
    "plt.show()"
   ]
  },
  {
   "cell_type": "code",
   "execution_count": 415,
   "metadata": {},
   "outputs": [
    {
     "data": {
      "image/png": "[encoded data removed]",
      "text/plain": [
       "<Figure size 432x288 with 1 Axes>"
      ]
     },
     "metadata": {},
     "output_type": "display_data"
    }
   ],
   "source": [
    "props=searchWeekday_proportions\n",
    "\n",
    "fig,ax=plt.subplots()\n",
    "ax.pie(props,labels=labels, autopct='%1.1f%%',\n",
    "        shadow=True, startangle=90)\n",
    "ax.axis('equal')\n",
    "\n",
    "plt.title(\"Proportion des recherches trajets en fonction du jour de la semaine\",y=1.1)\n",
    "plt.show()"
   ]
  },
  {
   "cell_type": "code",
   "execution_count": null,
   "metadata": {},
   "outputs": [],
   "source": []
  }
 ],
 "metadata": {
  "kernelspec": {
   "display_name": "Python 3",
   "language": "python",
   "name": "python3"
  },
  "language_info": {
   "codemirror_mode": {
    "name": "ipython",
    "version": 3
   },
   "file_extension": ".py",
   "mimetype": "text/x-python",
   "name": "python",
   "nbconvert_exporter": "python",
   "pygments_lexer": "ipython3",
   "version": "3.6.5"
  }
 },
 "nbformat": 4,
 "nbformat_minor": 2
}
